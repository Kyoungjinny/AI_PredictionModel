{
  "nbformat": 4,
  "nbformat_minor": 0,
  "metadata": {
    "colab": {
      "name": "AI_서울대공원_preprocessing2.ipynb",
      "provenance": [],
      "collapsed_sections": [],
      "include_colab_link": true
    },
    "kernelspec": {
      "name": "python3",
      "display_name": "Python 3"
    },
    "accelerator": "GPU"
  },
  "cells": [
    {
      "cell_type": "markdown",
      "metadata": {
        "id": "view-in-github",
        "colab_type": "text"
      },
      "source": [
        "<a href=\"https://colab.research.google.com/github/Kyoungjinny/AI_PredictionModel/blob/preprocess/AI_%EC%84%9C%EC%9A%B8%EB%8C%80%EA%B3%B5%EC%9B%90_preprocessing2.ipynb\" target=\"_parent\"><img src=\"https://colab.research.google.com/assets/colab-badge.svg\" alt=\"Open In Colab\"/></a>"
      ]
    },
    {
      "cell_type": "code",
      "metadata": {
        "id": "eVgwIR2S-jQI",
        "colab_type": "code",
        "colab": {}
      },
      "source": [
        "#from google.colab import drive\n",
        "#drive.mount('/content/gdrive')"
      ],
      "execution_count": 0,
      "outputs": []
    },
    {
      "cell_type": "code",
      "metadata": {
        "id": "GYM1roh5oxw-",
        "colab_type": "code",
        "outputId": "21ca3c81-826a-4550-f973-ffc27f7eaa1f",
        "colab": {
          "resources": {
            "http://localhost:8080/nbextensions/google.colab/files.js": {
              "data": "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",
              "ok": true,
              "headers": [
                [
                  "content-type",
                  "application/javascript"
                ]
              ],
              "status": 200,
              "status_text": ""
            }
          },
          "base_uri": "https://localhost:8080/",
          "height": 547
        }
      },
      "source": [
        "from google.colab import files\n",
        "uploaded = files.upload()"
      ],
      "execution_count": 0,
      "outputs": [
        {
          "output_type": "display_data",
          "data": {
            "text/html": [
              "\n",
              "     <input type=\"file\" id=\"files-3fd6cb66-5d5b-4987-829f-7cfa7091c5f2\" name=\"files[]\" multiple disabled />\n",
              "     <output id=\"result-3fd6cb66-5d5b-4987-829f-7cfa7091c5f2\">\n",
              "      Upload widget is only available when the cell has been executed in the\n",
              "      current browser session. Please rerun this cell to enable.\n",
              "      </output>\n",
              "      <script src=\"/nbextensions/google.colab/files.js\"></script> "
            ],
            "text/plain": [
              "<IPython.core.display.HTML object>"
            ]
          },
          "metadata": {
            "tags": []
          }
        },
        {
          "output_type": "stream",
          "text": [
            "Saving data2005.csv to data2005.csv\n",
            "Saving data2006.csv to data2006.csv\n",
            "Saving data2007.csv to data2007.csv\n",
            "Saving data2008.csv to data2008.csv\n",
            "Saving data2009.csv to data2009.csv\n",
            "Saving data2010.csv to data2010.csv\n",
            "Saving data2011.csv to data2011.csv\n",
            "Saving data2012.csv to data2012.csv\n",
            "Saving data2013.csv to data2013.csv\n",
            "Saving data2014.csv to data2014.csv\n",
            "Saving data2015.csv to data2015.csv\n",
            "Saving data2016.csv to data2016.csv\n",
            "Saving data2017.csv to data2017.csv\n",
            "Saving data2018.csv to data2018.csv\n",
            "Saving data2019.csv to data2019.csv\n"
          ],
          "name": "stdout"
        }
      ]
    },
    {
      "cell_type": "code",
      "metadata": {
        "id": "ubha6nSE-_UW",
        "colab_type": "code",
        "colab": {}
      },
      "source": [
        "import pandas as pd\n",
        "import numpy as np"
      ],
      "execution_count": 0,
      "outputs": []
    },
    {
      "cell_type": "code",
      "metadata": {
        "id": "a5EZwpiEBCSd",
        "colab_type": "code",
        "outputId": "6ad5a0b2-3a04-4803-c7c9-57b9f49b6ff6",
        "colab": {
          "base_uri": "https://localhost:8080/",
          "height": 230
        }
      },
      "source": [
        "!ls"
      ],
      "execution_count": 0,
      "outputs": [
        {
          "output_type": "stream",
          "text": [
            "'data2005 (1).csv'  'data2009 (1).csv'\t'data2013 (1).csv'  'data2017 (1).csv'\n",
            "'data2005 (2).csv'  'data2009 (2).csv'\t'data2013 (2).csv'  'data2017 (2).csv'\n",
            " data2005.csv\t     data2009.csv\t data2013.csv\t     data2017.csv\n",
            "'data2006 (1).csv'  'data2010 (1).csv'\t'data2014 (1).csv'  'data2018 (1).csv'\n",
            "'data2006 (2).csv'  'data2010 (2).csv'\t'data2014 (2).csv'  'data2018 (2).csv'\n",
            " data2006.csv\t     data2010.csv\t data2014.csv\t     data2018.csv\n",
            "'data2007 (1).csv'  'data2011 (1).csv'\t'data2015 (1).csv'  'data2019 (1).csv'\n",
            "'data2007 (2).csv'  'data2011 (2).csv'\t'data2015 (2).csv'  'data2019 (2).csv'\n",
            " data2007.csv\t     data2011.csv\t data2015.csv\t     data2019.csv\n",
            "'data2008 (1).csv'  'data2012 (1).csv'\t'data2016 (1).csv'   sample_data\n",
            "'data2008 (2).csv'  'data2012 (2).csv'\t'data2016 (2).csv'\n",
            " data2008.csv\t     data2012.csv\t data2016.csv\n"
          ],
          "name": "stdout"
        }
      ]
    },
    {
      "cell_type": "code",
      "metadata": {
        "id": "7nrdLqxR_Ii4",
        "colab_type": "code",
        "colab": {}
      },
      "source": [
        "import io\n",
        "data2018 = pd.read_csv(io.BytesIO(uploaded['data2018.csv']))"
      ],
      "execution_count": 0,
      "outputs": []
    },
    {
      "cell_type": "code",
      "metadata": {
        "id": "ZWekrKJQ_hYg",
        "colab_type": "code",
        "colab": {}
      },
      "source": [
        "data2013 = pd.read_csv(io.BytesIO(uploaded['data2013.csv']))"
      ],
      "execution_count": 0,
      "outputs": []
    },
    {
      "cell_type": "markdown",
      "metadata": {
        "id": "Pg3wnQ2aLRvy",
        "colab_type": "text"
      },
      "source": [
        "*Dropping unnecessary rows*"
      ]
    },
    {
      "cell_type": "code",
      "metadata": {
        "id": "aQjFmgP3EJBW",
        "colab_type": "code",
        "colab": {}
      },
      "source": [
        "# drop '월계' row\n",
        "data2013.drop(data2013.loc[data2013['months']=='월 계'].index, inplace=True)"
      ],
      "execution_count": 0,
      "outputs": []
    },
    {
      "cell_type": "code",
      "metadata": {
        "id": "aZKf3R-_Eur7",
        "colab_type": "code",
        "colab": {}
      },
      "source": [
        "data2019 = pd.read_csv(io.BytesIO(uploaded['data2019.csv']))\n",
        "data2017 = pd.read_csv(io.BytesIO(uploaded['data2017.csv']))\n",
        "data2016 = pd.read_csv(io.BytesIO(uploaded['data2016.csv']))\n",
        "data2015 = pd.read_csv(io.BytesIO(uploaded['data2015.csv']))\n",
        "data2014 = pd.read_csv(io.BytesIO(uploaded['data2014.csv']))\n",
        "data2012 = pd.read_csv(io.BytesIO(uploaded['data2012.csv']))\n",
        "data2011 = pd.read_csv(io.BytesIO(uploaded['data2011.csv']))\n",
        "data2010 = pd.read_csv(io.BytesIO(uploaded['data2010.csv']))\n",
        "data2009 = pd.read_csv(io.BytesIO(uploaded['data2009.csv']))\n",
        "data2008 = pd.read_csv(io.BytesIO(uploaded['data2008.csv']))\n",
        "data2007 = pd.read_csv(io.BytesIO(uploaded['data2007.csv']))\n",
        "data2006 = pd.read_csv(io.BytesIO(uploaded['data2006.csv']))\n",
        "data2005 = pd.read_csv(io.BytesIO(uploaded['data2005.csv']))"
      ],
      "execution_count": 0,
      "outputs": []
    },
    {
      "cell_type": "code",
      "metadata": {
        "id": "G9Lv5Uv2JTvH",
        "colab_type": "code",
        "colab": {}
      },
      "source": [
        "data2017.drop(data2017.loc[data2017['months']=='월계'].index, inplace=True)\n",
        "data2017.drop(data2017.loc[data2017['months'].isna()].index, inplace=True)"
      ],
      "execution_count": 0,
      "outputs": []
    },
    {
      "cell_type": "code",
      "metadata": {
        "id": "bV-etwXKITGp",
        "colab_type": "code",
        "colab": {}
      },
      "source": [
        "data2019.drop(data2019.loc[data2019['months']=='월계'].index, inplace=True)\n",
        "data2018.drop(data2018.loc[data2018['months']=='월계'].index, inplace=True)\n",
        "data2016.drop(data2016.loc[data2016['months'].isna()].index, inplace=True)\n",
        "data2015.drop(data2015.loc[data2015['months']=='월별입장객수'].index, inplace=True)"
      ],
      "execution_count": 0,
      "outputs": []
    },
    {
      "cell_type": "code",
      "metadata": {
        "id": "SIw5UOV_KqcS",
        "colab_type": "code",
        "colab": {}
      },
      "source": [
        "data2014.drop(data2014.loc[data2014['months']=='월 계'].index, inplace=True)\n",
        "data2013.drop(data2013.loc[data2013['months']=='월 계'].index, inplace=True)\n",
        "data2012.drop(data2019.loc[data2012['months']=='월 계'].index, inplace=True)\n",
        "data2012.drop(data2012.loc[data2012['months']=='월 계'].index, inplace=True)\n",
        "data2011.drop(data2011.loc[data2011['months']=='월 계'].index, inplace=True)\n",
        "data2010.drop(data2010.loc[data2010['months']=='월 계'].index, inplace=True)\n",
        "data2009.drop(data2009.loc[data2009['months']=='월 계'].index, inplace=True)\n",
        "data2008.drop(data2008.loc[data2008['months']=='월 계'].index, inplace=True)\n",
        "data2007.drop(data2007.loc[data2007['months']=='월 계'].index, inplace=True)\n",
        "data2006.drop(data2006.loc[data2006['months']=='월 계'].index, inplace=True)\n",
        "data2005.drop(data2005.loc[data2005['months']=='월 계'].index, inplace=True)"
      ],
      "execution_count": 0,
      "outputs": []
    },
    {
      "cell_type": "markdown",
      "metadata": {
        "id": "wHQxHGxzW-cp",
        "colab_type": "text"
      },
      "source": [
        "*계절 추가*"
      ]
    },
    {
      "cell_type": "code",
      "metadata": {
        "id": "nanZksiTYq0S",
        "colab_type": "code",
        "colab": {}
      },
      "source": [
        "# 'season' 임의로 추가 \n",
        "data2018['season'] = np.nan"
      ],
      "execution_count": 0,
      "outputs": []
    },
    {
      "cell_type": "code",
      "metadata": {
        "id": "0Fkc-9i2dUrl",
        "colab_type": "code",
        "colab": {}
      },
      "source": [
        "# 월별에 따라 'season' 칼럼에 분류 \n",
        "seasons = {'1월':'winter', '2월':'winter', '3월':'spring', '4월':'spring', '5월':'spring', '6월':'summer',\n",
        "           '7월':'summer', '8월':'summer', '9월':'fall', '10월':'fall', '11월':'fall', '12월':'winter'}\n",
        "data2018['season'] = data2018['Unnamed: 0'].map(seasons)"
      ],
      "execution_count": 0,
      "outputs": []
    },
    {
      "cell_type": "code",
      "metadata": {
        "id": "N0oXY8-0k5cr",
        "colab_type": "code",
        "colab": {}
      },
      "source": [
        "# 계절별로 one hot encoding\n",
        "def process_season(df):\n",
        "  data_dummies = pd.get_dummies(df['season'])\n",
        "  df = pd.concat([df, data_dummies],axis=1)\n",
        "  #df.drop(['season'],axis=1,inplace=True)\n",
        "  return df"
      ],
      "execution_count": 0,
      "outputs": []
    },
    {
      "cell_type": "code",
      "metadata": {
        "id": "CzxBbGddlNJn",
        "colab_type": "code",
        "colab": {}
      },
      "source": [
        "data2018 = process_season(data2018)"
      ],
      "execution_count": 0,
      "outputs": []
    },
    {
      "cell_type": "code",
      "metadata": {
        "id": "eNY-sl7JlvLS",
        "colab_type": "code",
        "colab": {}
      },
      "source": [
        "data2019['season'] = np.nan\n",
        "data2017['season'] = np.nan\n",
        "data2016['season'] = np.nan\n",
        "data2015['season'] = np.nan\n",
        "data2014['season'] = np.nan\n",
        "data2013['season'] = np.nan\n",
        "data2012['season'] = np.nan\n",
        "data2011['season'] = np.nan\n",
        "data2010['season'] = np.nan\n",
        "data2009['season'] = np.nan\n",
        "data2008['season'] = np.nan\n",
        "data2007['season'] = np.nan\n",
        "data2006['season'] = np.nan\n",
        "data2005['season'] = np.nan"
      ],
      "execution_count": 0,
      "outputs": []
    },
    {
      "cell_type": "code",
      "metadata": {
        "id": "WNPhTArbl-ZG",
        "colab_type": "code",
        "colab": {}
      },
      "source": [
        "data2019['season'] = data2019['Unnamed: 0'].map(seasons)\n",
        "data2017['season'] = data2017['Unnamed: 0'].map(seasons)\n",
        "data2016['season'] = data2016['Unnamed: 0'].map(seasons)\n",
        "data2016['season'] = data2016['Unnamed: 0'].map(seasons)\n",
        "data2015['season'] = data2015['Unnamed: 0'].map(seasons)\n",
        "data2014['season'] = data2014['Unnamed: 0'].map(seasons)\n",
        "data2013['season'] = data2013['Unnamed: 0'].map(seasons)\n",
        "data2012['season'] = data2012['Unnamed: 0'].map(seasons)\n",
        "data2011['season'] = data2011['Unnamed: 0'].map(seasons)\n",
        "data2010['season'] = data2010['Unnamed: 0'].map(seasons)\n",
        "data2009['season'] = data2009['Unnamed: 0'].map(seasons)\n",
        "data2008['season'] = data2008['Unnamed: 0'].map(seasons)\n",
        "data2007['season'] = data2007['Unnamed: 0'].map(seasons)\n",
        "data2006['season'] = data2006['Unnamed: 0'].map(seasons)\n",
        "data2005['season'] = data2005['Unnamed: 0'].map(seasons)"
      ],
      "execution_count": 0,
      "outputs": []
    },
    {
      "cell_type": "code",
      "metadata": {
        "id": "kIrYKLbgmerD",
        "colab_type": "code",
        "colab": {}
      },
      "source": [
        "data2019 = process_season(data2019)\n",
        "data2017 = process_season(data2017)\n",
        "data2016 = process_season(data2016)\n",
        "data2015 = process_season(data2015)\n",
        "data2014 = process_season(data2014)\n",
        "data2013 = process_season(data2013)\n",
        "data2012 = process_season(data2012)\n",
        "data2011 = process_season(data2011)\n",
        "data2010 = process_season(data2010)\n",
        "data2009 = process_season(data2009)\n",
        "data2008 = process_season(data2008)\n",
        "data2007 = process_season(data2007)\n",
        "data2006 = process_season(data2006)\n",
        "data2005 = process_season(data2005)"
      ],
      "execution_count": 0,
      "outputs": []
    },
    {
      "cell_type": "markdown",
      "metadata": {
        "id": "I4kubuTLnCas",
        "colab_type": "text"
      },
      "source": [
        "*방학 추가*"
      ]
    },
    {
      "cell_type": "code",
      "metadata": {
        "id": "0LU3wYqI287y",
        "colab_type": "code",
        "outputId": "e6520f8a-3cc8-4a9f-809f-cd1bc04c7aa6",
        "colab": {
          "base_uri": "https://localhost:8080/",
          "height": 592
        }
      },
      "source": [
        "vacation = {'1월':'winter', '2월':'winter', '7월':'summer', '8월':'summer'}\n",
        "\n",
        "data2018['break'] = np.nan\n",
        "data2018['break'] = data2018['Unnamed: 0'].map(vacation)\n",
        "data2018 = pd.get_dummies(data=data2018, columns=['break'], prefix='break')\n",
        "\n",
        "data2019['break'] = np.nan\n",
        "data2019['break'] = data2019['Unnamed: 0'].map(vacation)\n",
        "data2019 = pd.get_dummies(data=data2019, columns=['break'], prefix='break')\n",
        "\n",
        "data2017['break'] = np.nan\n",
        "data2017['break'] = data2017['Unnamed: 0'].map(vacation)\n",
        "data2017 = pd.get_dummies(data=data2017, columns=['break'], prefix='break')\n",
        "\n",
        "data2016['break'] = np.nan\n",
        "data2016['break'] = data2016['Unnamed: 0'].map(vacation)\n",
        "data2016 = pd.get_dummies(data=data2016, columns=['break'], prefix='break')\n",
        "\n",
        "data2015['break'] = np.nan\n",
        "data2015['break'] = data2015['Unnamed: 0'].map(vacation)\n",
        "data2015 = pd.get_dummies(data=data2015, columns=['break'], prefix='break')\n",
        "\n",
        "data2014['break'] = np.nan\n",
        "data2014['break'] = data2014['Unnamed: 0'].map(vacation)\n",
        "data2014 = pd.get_dummies(data=data2014, columns=['break'], prefix='break')\n",
        "\n",
        "data2013['break'] = np.nan\n",
        "data2013['break'] = data2013['Unnamed: 0'].map(vacation)\n",
        "data2013 = pd.get_dummies(data=data2013, columns=['break'], prefix='break')\n",
        "\n",
        "data2012['break'] = np.nan\n",
        "data2012['break'] = data2012['Unnamed: 0'].map(vacation)\n",
        "data2012 = pd.get_dummies(data=data2012, columns=['break'], prefix='break')\n",
        "\n",
        "data2011['break'] = np.nan\n",
        "data2011['break'] = data2011['Unnamed: 0'].map(vacation)\n",
        "data2011 = pd.get_dummies(data=data2011, columns=['break'], prefix='break')\n",
        "\n",
        "data2010['break'] = np.nan\n",
        "data2010['break'] = data2010['Unnamed: 0'].map(vacation)\n",
        "data2010 = pd.get_dummies(data=data2010, columns=['break'], prefix='break')\n",
        "\n",
        "data2009['break'] = np.nan\n",
        "data2009['break'] = data2009['Unnamed: 0'].map(vacation)\n",
        "data2009 = pd.get_dummies(data=data2009, columns=['break'], prefix='break')\n",
        "\n",
        "data2008['break'] = np.nan\n",
        "data2008['break'] = data2008['Unnamed: 0'].map(vacation)\n",
        "data2008 = pd.get_dummies(data=data2008, columns=['break'], prefix='break')\n",
        "\n",
        "data2007['break'] = np.nan\n",
        "data2018['break'] = data2018['Unnamed: 0'].map(vacation)\n",
        "data2018 = pd.get_dummies(data=data2018, columns=['break'], prefix='break')\n",
        "\n",
        "data2006['break'] = np.nan\n",
        "data2006['break'] = data2006['Unnamed: 0'].map(vacation)\n",
        "data2006 = pd.get_dummies(data=data2006, columns=['break'], prefix='break')\n",
        "\n",
        "data2005['break'] = np.nan\n",
        "data2005['break'] = data2005['Unnamed: 0'].map(vacation)\n",
        "data2005 = pd.get_dummies(data=data2005, columns=['break'], prefix='break')\n",
        "data2005"
      ],
      "execution_count": 0,
      "outputs": [
        {
          "output_type": "execute_result",
          "data": {
            "text/html": [
              "<div>\n",
              "<style scoped>\n",
              "    .dataframe tbody tr th:only-of-type {\n",
              "        vertical-align: middle;\n",
              "    }\n",
              "\n",
              "    .dataframe tbody tr th {\n",
              "        vertical-align: top;\n",
              "    }\n",
              "\n",
              "    .dataframe thead th {\n",
              "        text-align: right;\n",
              "    }\n",
              "</style>\n",
              "<table border=\"1\" class=\"dataframe\">\n",
              "  <thead>\n",
              "    <tr style=\"text-align: right;\">\n",
              "      <th></th>\n",
              "      <th>Unnamed: 0</th>\n",
              "      <th>Unnamed: 1</th>\n",
              "      <th>months</th>\n",
              "      <th>weather</th>\n",
              "      <th>m_etc</th>\n",
              "      <th>m_paid</th>\n",
              "      <th>m_free</th>\n",
              "      <th>m_total</th>\n",
              "      <th>zb_paid</th>\n",
              "      <th>zb_adult</th>\n",
              "      <th>zb_foreigner</th>\n",
              "      <th>zb_teen</th>\n",
              "      <th>zb_child</th>\n",
              "      <th>zb_free</th>\n",
              "      <th>zb_total</th>\n",
              "      <th>tp_group</th>\n",
              "      <th>tp_paid</th>\n",
              "      <th>tp_adult</th>\n",
              "      <th>tp_teen</th>\n",
              "      <th>tp_child</th>\n",
              "      <th>tp_foreigner</th>\n",
              "      <th>tp_free</th>\n",
              "      <th>tp_total</th>\n",
              "      <th>temp</th>\n",
              "      <th>month_01</th>\n",
              "      <th>month_02</th>\n",
              "      <th>month_03</th>\n",
              "      <th>month_04</th>\n",
              "      <th>month_05</th>\n",
              "      <th>month_06</th>\n",
              "      <th>month_07</th>\n",
              "      <th>month_08</th>\n",
              "      <th>month_09</th>\n",
              "      <th>month_10</th>\n",
              "      <th>month_11</th>\n",
              "      <th>month_12</th>\n",
              "      <th>date_fri</th>\n",
              "      <th>date_thur</th>\n",
              "      <th>date_wed</th>\n",
              "      <th>date_mon</th>\n",
              "      <th>date_sun</th>\n",
              "      <th>date_sat</th>\n",
              "      <th>date_tue</th>\n",
              "      <th>season</th>\n",
              "      <th>fall</th>\n",
              "      <th>spring</th>\n",
              "      <th>summer</th>\n",
              "      <th>winter</th>\n",
              "      <th>break_summer</th>\n",
              "      <th>break_winter</th>\n",
              "    </tr>\n",
              "  </thead>\n",
              "  <tbody>\n",
              "    <tr>\n",
              "      <th>0</th>\n",
              "      <td>1월</td>\n",
              "      <td>5</td>\n",
              "      <td>01월01일</td>\n",
              "      <td>0</td>\n",
              "      <td>23</td>\n",
              "      <td>10</td>\n",
              "      <td>0</td>\n",
              "      <td>0</td>\n",
              "      <td>0</td>\n",
              "      <td>35</td>\n",
              "      <td>4300</td>\n",
              "      <td>NaN</td>\n",
              "      <td>5953</td>\n",
              "      <td>487</td>\n",
              "      <td>6440</td>\n",
              "      <td>3026</td>\n",
              "      <td>162</td>\n",
              "      <td>1112</td>\n",
              "      <td>0</td>\n",
              "      <td>440</td>\n",
              "      <td>4740</td>\n",
              "      <td>35</td>\n",
              "      <td>2</td>\n",
              "      <td>1.0</td>\n",
              "      <td>1</td>\n",
              "      <td>0</td>\n",
              "      <td>0</td>\n",
              "      <td>0</td>\n",
              "      <td>0</td>\n",
              "      <td>0</td>\n",
              "      <td>0</td>\n",
              "      <td>0</td>\n",
              "      <td>0</td>\n",
              "      <td>0</td>\n",
              "      <td>0</td>\n",
              "      <td>0</td>\n",
              "      <td>0</td>\n",
              "      <td>0</td>\n",
              "      <td>0</td>\n",
              "      <td>0</td>\n",
              "      <td>0</td>\n",
              "      <td>1</td>\n",
              "      <td>0</td>\n",
              "      <td>winter</td>\n",
              "      <td>0</td>\n",
              "      <td>0</td>\n",
              "      <td>0</td>\n",
              "      <td>1</td>\n",
              "      <td>0</td>\n",
              "      <td>1</td>\n",
              "    </tr>\n",
              "    <tr>\n",
              "      <th>1</th>\n",
              "      <td>1월</td>\n",
              "      <td>6</td>\n",
              "      <td>01월02일</td>\n",
              "      <td>0</td>\n",
              "      <td>16</td>\n",
              "      <td>8</td>\n",
              "      <td>0</td>\n",
              "      <td>0</td>\n",
              "      <td>0</td>\n",
              "      <td>26</td>\n",
              "      <td>3817</td>\n",
              "      <td>NaN</td>\n",
              "      <td>5264</td>\n",
              "      <td>798</td>\n",
              "      <td>6062</td>\n",
              "      <td>2643</td>\n",
              "      <td>113</td>\n",
              "      <td>990</td>\n",
              "      <td>0</td>\n",
              "      <td>749</td>\n",
              "      <td>4495</td>\n",
              "      <td>26</td>\n",
              "      <td>2</td>\n",
              "      <td>1.0</td>\n",
              "      <td>1</td>\n",
              "      <td>0</td>\n",
              "      <td>0</td>\n",
              "      <td>0</td>\n",
              "      <td>0</td>\n",
              "      <td>0</td>\n",
              "      <td>0</td>\n",
              "      <td>0</td>\n",
              "      <td>0</td>\n",
              "      <td>0</td>\n",
              "      <td>0</td>\n",
              "      <td>0</td>\n",
              "      <td>0</td>\n",
              "      <td>0</td>\n",
              "      <td>0</td>\n",
              "      <td>0</td>\n",
              "      <td>1</td>\n",
              "      <td>0</td>\n",
              "      <td>0</td>\n",
              "      <td>winter</td>\n",
              "      <td>0</td>\n",
              "      <td>0</td>\n",
              "      <td>0</td>\n",
              "      <td>1</td>\n",
              "      <td>0</td>\n",
              "      <td>1</td>\n",
              "    </tr>\n",
              "    <tr>\n",
              "      <th>2</th>\n",
              "      <td>1월</td>\n",
              "      <td>7</td>\n",
              "      <td>01월03일</td>\n",
              "      <td>0</td>\n",
              "      <td>2</td>\n",
              "      <td>2</td>\n",
              "      <td>0</td>\n",
              "      <td>0</td>\n",
              "      <td>0</td>\n",
              "      <td>4</td>\n",
              "      <td>344</td>\n",
              "      <td>NaN</td>\n",
              "      <td>468</td>\n",
              "      <td>390</td>\n",
              "      <td>858</td>\n",
              "      <td>205</td>\n",
              "      <td>13</td>\n",
              "      <td>99</td>\n",
              "      <td>0</td>\n",
              "      <td>386</td>\n",
              "      <td>703</td>\n",
              "      <td>4</td>\n",
              "      <td>0</td>\n",
              "      <td>1.0</td>\n",
              "      <td>1</td>\n",
              "      <td>0</td>\n",
              "      <td>0</td>\n",
              "      <td>0</td>\n",
              "      <td>0</td>\n",
              "      <td>0</td>\n",
              "      <td>0</td>\n",
              "      <td>0</td>\n",
              "      <td>0</td>\n",
              "      <td>0</td>\n",
              "      <td>0</td>\n",
              "      <td>0</td>\n",
              "      <td>0</td>\n",
              "      <td>0</td>\n",
              "      <td>0</td>\n",
              "      <td>1</td>\n",
              "      <td>0</td>\n",
              "      <td>0</td>\n",
              "      <td>0</td>\n",
              "      <td>winter</td>\n",
              "      <td>0</td>\n",
              "      <td>0</td>\n",
              "      <td>0</td>\n",
              "      <td>1</td>\n",
              "      <td>0</td>\n",
              "      <td>1</td>\n",
              "    </tr>\n",
              "    <tr>\n",
              "      <th>3</th>\n",
              "      <td>1월</td>\n",
              "      <td>8</td>\n",
              "      <td>01월04일</td>\n",
              "      <td>0</td>\n",
              "      <td>0</td>\n",
              "      <td>0</td>\n",
              "      <td>0</td>\n",
              "      <td>0</td>\n",
              "      <td>0</td>\n",
              "      <td>1</td>\n",
              "      <td>663</td>\n",
              "      <td>NaN</td>\n",
              "      <td>801</td>\n",
              "      <td>399</td>\n",
              "      <td>1200</td>\n",
              "      <td>374</td>\n",
              "      <td>41</td>\n",
              "      <td>171</td>\n",
              "      <td>0</td>\n",
              "      <td>394</td>\n",
              "      <td>980</td>\n",
              "      <td>1</td>\n",
              "      <td>1</td>\n",
              "      <td>1.0</td>\n",
              "      <td>1</td>\n",
              "      <td>0</td>\n",
              "      <td>0</td>\n",
              "      <td>0</td>\n",
              "      <td>0</td>\n",
              "      <td>0</td>\n",
              "      <td>0</td>\n",
              "      <td>0</td>\n",
              "      <td>0</td>\n",
              "      <td>0</td>\n",
              "      <td>0</td>\n",
              "      <td>0</td>\n",
              "      <td>0</td>\n",
              "      <td>0</td>\n",
              "      <td>0</td>\n",
              "      <td>0</td>\n",
              "      <td>0</td>\n",
              "      <td>0</td>\n",
              "      <td>1</td>\n",
              "      <td>winter</td>\n",
              "      <td>0</td>\n",
              "      <td>0</td>\n",
              "      <td>0</td>\n",
              "      <td>1</td>\n",
              "      <td>0</td>\n",
              "      <td>1</td>\n",
              "    </tr>\n",
              "    <tr>\n",
              "      <th>4</th>\n",
              "      <td>1월</td>\n",
              "      <td>9</td>\n",
              "      <td>01월05일</td>\n",
              "      <td>0</td>\n",
              "      <td>0</td>\n",
              "      <td>0</td>\n",
              "      <td>0</td>\n",
              "      <td>0</td>\n",
              "      <td>0</td>\n",
              "      <td>0</td>\n",
              "      <td>841</td>\n",
              "      <td>NaN</td>\n",
              "      <td>1043</td>\n",
              "      <td>560</td>\n",
              "      <td>1603</td>\n",
              "      <td>410</td>\n",
              "      <td>54</td>\n",
              "      <td>273</td>\n",
              "      <td>0</td>\n",
              "      <td>548</td>\n",
              "      <td>1285</td>\n",
              "      <td>0</td>\n",
              "      <td>0</td>\n",
              "      <td>1.0</td>\n",
              "      <td>1</td>\n",
              "      <td>0</td>\n",
              "      <td>0</td>\n",
              "      <td>0</td>\n",
              "      <td>0</td>\n",
              "      <td>0</td>\n",
              "      <td>0</td>\n",
              "      <td>0</td>\n",
              "      <td>0</td>\n",
              "      <td>0</td>\n",
              "      <td>0</td>\n",
              "      <td>0</td>\n",
              "      <td>0</td>\n",
              "      <td>0</td>\n",
              "      <td>1</td>\n",
              "      <td>0</td>\n",
              "      <td>0</td>\n",
              "      <td>0</td>\n",
              "      <td>0</td>\n",
              "      <td>winter</td>\n",
              "      <td>0</td>\n",
              "      <td>0</td>\n",
              "      <td>0</td>\n",
              "      <td>1</td>\n",
              "      <td>0</td>\n",
              "      <td>1</td>\n",
              "    </tr>\n",
              "    <tr>\n",
              "      <th>...</th>\n",
              "      <td>...</td>\n",
              "      <td>...</td>\n",
              "      <td>...</td>\n",
              "      <td>...</td>\n",
              "      <td>...</td>\n",
              "      <td>...</td>\n",
              "      <td>...</td>\n",
              "      <td>...</td>\n",
              "      <td>...</td>\n",
              "      <td>...</td>\n",
              "      <td>...</td>\n",
              "      <td>...</td>\n",
              "      <td>...</td>\n",
              "      <td>...</td>\n",
              "      <td>...</td>\n",
              "      <td>...</td>\n",
              "      <td>...</td>\n",
              "      <td>...</td>\n",
              "      <td>...</td>\n",
              "      <td>...</td>\n",
              "      <td>...</td>\n",
              "      <td>...</td>\n",
              "      <td>...</td>\n",
              "      <td>...</td>\n",
              "      <td>...</td>\n",
              "      <td>...</td>\n",
              "      <td>...</td>\n",
              "      <td>...</td>\n",
              "      <td>...</td>\n",
              "      <td>...</td>\n",
              "      <td>...</td>\n",
              "      <td>...</td>\n",
              "      <td>...</td>\n",
              "      <td>...</td>\n",
              "      <td>...</td>\n",
              "      <td>...</td>\n",
              "      <td>...</td>\n",
              "      <td>...</td>\n",
              "      <td>...</td>\n",
              "      <td>...</td>\n",
              "      <td>...</td>\n",
              "      <td>...</td>\n",
              "      <td>...</td>\n",
              "      <td>...</td>\n",
              "      <td>...</td>\n",
              "      <td>...</td>\n",
              "      <td>...</td>\n",
              "      <td>...</td>\n",
              "      <td>...</td>\n",
              "      <td>...</td>\n",
              "    </tr>\n",
              "    <tr>\n",
              "      <th>371</th>\n",
              "      <td>12월</td>\n",
              "      <td>31</td>\n",
              "      <td>12월27일</td>\n",
              "      <td>0</td>\n",
              "      <td>4</td>\n",
              "      <td>0</td>\n",
              "      <td>0</td>\n",
              "      <td>0</td>\n",
              "      <td>0</td>\n",
              "      <td>4</td>\n",
              "      <td>224</td>\n",
              "      <td>NaN</td>\n",
              "      <td>405</td>\n",
              "      <td>381</td>\n",
              "      <td>786</td>\n",
              "      <td>189</td>\n",
              "      <td>1</td>\n",
              "      <td>34</td>\n",
              "      <td>0</td>\n",
              "      <td>377</td>\n",
              "      <td>601</td>\n",
              "      <td>4</td>\n",
              "      <td>0</td>\n",
              "      <td>12.0</td>\n",
              "      <td>0</td>\n",
              "      <td>0</td>\n",
              "      <td>0</td>\n",
              "      <td>0</td>\n",
              "      <td>0</td>\n",
              "      <td>0</td>\n",
              "      <td>0</td>\n",
              "      <td>0</td>\n",
              "      <td>0</td>\n",
              "      <td>0</td>\n",
              "      <td>0</td>\n",
              "      <td>1</td>\n",
              "      <td>0</td>\n",
              "      <td>0</td>\n",
              "      <td>0</td>\n",
              "      <td>0</td>\n",
              "      <td>0</td>\n",
              "      <td>0</td>\n",
              "      <td>1</td>\n",
              "      <td>winter</td>\n",
              "      <td>0</td>\n",
              "      <td>0</td>\n",
              "      <td>0</td>\n",
              "      <td>1</td>\n",
              "      <td>0</td>\n",
              "      <td>0</td>\n",
              "    </tr>\n",
              "    <tr>\n",
              "      <th>372</th>\n",
              "      <td>12월</td>\n",
              "      <td>32</td>\n",
              "      <td>12월28일</td>\n",
              "      <td>0</td>\n",
              "      <td>0</td>\n",
              "      <td>0</td>\n",
              "      <td>0</td>\n",
              "      <td>0</td>\n",
              "      <td>0</td>\n",
              "      <td>0</td>\n",
              "      <td>289</td>\n",
              "      <td>NaN</td>\n",
              "      <td>499</td>\n",
              "      <td>500</td>\n",
              "      <td>999</td>\n",
              "      <td>207</td>\n",
              "      <td>11</td>\n",
              "      <td>71</td>\n",
              "      <td>0</td>\n",
              "      <td>498</td>\n",
              "      <td>787</td>\n",
              "      <td>0</td>\n",
              "      <td>0</td>\n",
              "      <td>12.0</td>\n",
              "      <td>0</td>\n",
              "      <td>0</td>\n",
              "      <td>0</td>\n",
              "      <td>0</td>\n",
              "      <td>0</td>\n",
              "      <td>0</td>\n",
              "      <td>0</td>\n",
              "      <td>0</td>\n",
              "      <td>0</td>\n",
              "      <td>0</td>\n",
              "      <td>0</td>\n",
              "      <td>1</td>\n",
              "      <td>0</td>\n",
              "      <td>0</td>\n",
              "      <td>1</td>\n",
              "      <td>0</td>\n",
              "      <td>0</td>\n",
              "      <td>0</td>\n",
              "      <td>0</td>\n",
              "      <td>winter</td>\n",
              "      <td>0</td>\n",
              "      <td>0</td>\n",
              "      <td>0</td>\n",
              "      <td>1</td>\n",
              "      <td>0</td>\n",
              "      <td>0</td>\n",
              "    </tr>\n",
              "    <tr>\n",
              "      <th>373</th>\n",
              "      <td>12월</td>\n",
              "      <td>33</td>\n",
              "      <td>12월29일</td>\n",
              "      <td>0</td>\n",
              "      <td>2</td>\n",
              "      <td>0</td>\n",
              "      <td>0</td>\n",
              "      <td>0</td>\n",
              "      <td>0</td>\n",
              "      <td>2</td>\n",
              "      <td>449</td>\n",
              "      <td>NaN</td>\n",
              "      <td>775</td>\n",
              "      <td>507</td>\n",
              "      <td>1282</td>\n",
              "      <td>313</td>\n",
              "      <td>31</td>\n",
              "      <td>105</td>\n",
              "      <td>0</td>\n",
              "      <td>494</td>\n",
              "      <td>943</td>\n",
              "      <td>2</td>\n",
              "      <td>0</td>\n",
              "      <td>12.0</td>\n",
              "      <td>0</td>\n",
              "      <td>0</td>\n",
              "      <td>0</td>\n",
              "      <td>0</td>\n",
              "      <td>0</td>\n",
              "      <td>0</td>\n",
              "      <td>0</td>\n",
              "      <td>0</td>\n",
              "      <td>0</td>\n",
              "      <td>0</td>\n",
              "      <td>0</td>\n",
              "      <td>1</td>\n",
              "      <td>0</td>\n",
              "      <td>1</td>\n",
              "      <td>0</td>\n",
              "      <td>0</td>\n",
              "      <td>0</td>\n",
              "      <td>0</td>\n",
              "      <td>0</td>\n",
              "      <td>winter</td>\n",
              "      <td>0</td>\n",
              "      <td>0</td>\n",
              "      <td>0</td>\n",
              "      <td>1</td>\n",
              "      <td>0</td>\n",
              "      <td>0</td>\n",
              "    </tr>\n",
              "    <tr>\n",
              "      <th>374</th>\n",
              "      <td>12월</td>\n",
              "      <td>34</td>\n",
              "      <td>12월30일</td>\n",
              "      <td>0</td>\n",
              "      <td>1</td>\n",
              "      <td>2</td>\n",
              "      <td>0</td>\n",
              "      <td>0</td>\n",
              "      <td>0</td>\n",
              "      <td>3</td>\n",
              "      <td>422</td>\n",
              "      <td>NaN</td>\n",
              "      <td>537</td>\n",
              "      <td>471</td>\n",
              "      <td>1008</td>\n",
              "      <td>290</td>\n",
              "      <td>37</td>\n",
              "      <td>95</td>\n",
              "      <td>0</td>\n",
              "      <td>465</td>\n",
              "      <td>887</td>\n",
              "      <td>3</td>\n",
              "      <td>0</td>\n",
              "      <td>12.0</td>\n",
              "      <td>0</td>\n",
              "      <td>0</td>\n",
              "      <td>0</td>\n",
              "      <td>0</td>\n",
              "      <td>0</td>\n",
              "      <td>0</td>\n",
              "      <td>0</td>\n",
              "      <td>0</td>\n",
              "      <td>0</td>\n",
              "      <td>0</td>\n",
              "      <td>0</td>\n",
              "      <td>1</td>\n",
              "      <td>1</td>\n",
              "      <td>0</td>\n",
              "      <td>0</td>\n",
              "      <td>0</td>\n",
              "      <td>0</td>\n",
              "      <td>0</td>\n",
              "      <td>0</td>\n",
              "      <td>winter</td>\n",
              "      <td>0</td>\n",
              "      <td>0</td>\n",
              "      <td>0</td>\n",
              "      <td>1</td>\n",
              "      <td>0</td>\n",
              "      <td>0</td>\n",
              "    </tr>\n",
              "    <tr>\n",
              "      <th>375</th>\n",
              "      <td>12월</td>\n",
              "      <td>35</td>\n",
              "      <td>12월31일</td>\n",
              "      <td>0</td>\n",
              "      <td>8</td>\n",
              "      <td>5</td>\n",
              "      <td>0</td>\n",
              "      <td>0</td>\n",
              "      <td>0</td>\n",
              "      <td>13</td>\n",
              "      <td>1565</td>\n",
              "      <td>NaN</td>\n",
              "      <td>2236</td>\n",
              "      <td>724</td>\n",
              "      <td>2960</td>\n",
              "      <td>1133</td>\n",
              "      <td>75</td>\n",
              "      <td>357</td>\n",
              "      <td>0</td>\n",
              "      <td>699</td>\n",
              "      <td>2264</td>\n",
              "      <td>13</td>\n",
              "      <td>0</td>\n",
              "      <td>12.0</td>\n",
              "      <td>0</td>\n",
              "      <td>0</td>\n",
              "      <td>0</td>\n",
              "      <td>0</td>\n",
              "      <td>0</td>\n",
              "      <td>0</td>\n",
              "      <td>0</td>\n",
              "      <td>0</td>\n",
              "      <td>0</td>\n",
              "      <td>0</td>\n",
              "      <td>0</td>\n",
              "      <td>1</td>\n",
              "      <td>0</td>\n",
              "      <td>0</td>\n",
              "      <td>0</td>\n",
              "      <td>0</td>\n",
              "      <td>0</td>\n",
              "      <td>1</td>\n",
              "      <td>0</td>\n",
              "      <td>winter</td>\n",
              "      <td>0</td>\n",
              "      <td>0</td>\n",
              "      <td>0</td>\n",
              "      <td>1</td>\n",
              "      <td>0</td>\n",
              "      <td>0</td>\n",
              "    </tr>\n",
              "  </tbody>\n",
              "</table>\n",
              "<p>365 rows × 50 columns</p>\n",
              "</div>"
            ],
            "text/plain": [
              "    Unnamed: 0  Unnamed: 1  months  ...  winter  break_summer  break_winter\n",
              "0           1월           5  01월01일  ...       1             0             1\n",
              "1           1월           6  01월02일  ...       1             0             1\n",
              "2           1월           7  01월03일  ...       1             0             1\n",
              "3           1월           8  01월04일  ...       1             0             1\n",
              "4           1월           9  01월05일  ...       1             0             1\n",
              "..         ...         ...     ...  ...     ...           ...           ...\n",
              "371        12월          31  12월27일  ...       1             0             0\n",
              "372        12월          32  12월28일  ...       1             0             0\n",
              "373        12월          33  12월29일  ...       1             0             0\n",
              "374        12월          34  12월30일  ...       1             0             0\n",
              "375        12월          35  12월31일  ...       1             0             0\n",
              "\n",
              "[365 rows x 50 columns]"
            ]
          },
          "metadata": {
            "tags": []
          },
          "execution_count": 17
        }
      ]
    },
    {
      "cell_type": "code",
      "metadata": {
        "id": "5TLLKGIJQU_y",
        "colab_type": "code",
        "colab": {}
      },
      "source": [
        "df.to_csv(\"filename.csv\")"
      ],
      "execution_count": 0,
      "outputs": []
    },
    {
      "cell_type": "code",
      "metadata": {
        "id": "2X5BpYvBQcG4",
        "colab_type": "code",
        "colab": {}
      },
      "source": [
        "data2018.drop(['weather','month_01',\t'month_02',\t'month_03',\t'month_04',\t'month_05',\t'month_06',\t'month_07',\n",
        "               'month_08',\t'month_09',\t'month_10',\t'month_11',\t'month_12'],axis=1,inplace=True)"
      ],
      "execution_count": 0,
      "outputs": []
    },
    {
      "cell_type": "code",
      "metadata": {
        "id": "DiDmMo04Q_KW",
        "colab_type": "code",
        "colab": {}
      },
      "source": [
        "data2019.drop(['weather','month_01',\t'month_02',\t'month_03',\t'month_04'],axis=1,inplace=True)"
      ],
      "execution_count": 0,
      "outputs": []
    },
    {
      "cell_type": "code",
      "metadata": {
        "id": "GlA7cIWZRFQo",
        "colab_type": "code",
        "colab": {}
      },
      "source": [
        "data2017.drop(['weather',\t'month_03',\t'month_04',\t'month_05',\t'month_06',\t'month_07',\n",
        "               'month_08',\t'month_09',\t'month_10',\t'month_11',\t'month_12'],axis=1,inplace=True)"
      ],
      "execution_count": 0,
      "outputs": []
    },
    {
      "cell_type": "code",
      "metadata": {
        "id": "V4mhqxKuRKWI",
        "colab_type": "code",
        "colab": {}
      },
      "source": [
        "data2016.drop(['weather','month_01',\t'month_02',\t'month_03',\t'month_04',\t'month_05',\t'month_06',\t'month_07',\n",
        "               'month_08',\t'month_09',\t'month_10',\t'month_11',\t'month_12'],axis=1,inplace=True)"
      ],
      "execution_count": 0,
      "outputs": []
    },
    {
      "cell_type": "code",
      "metadata": {
        "id": "s_V0O4V-RMKy",
        "colab_type": "code",
        "colab": {}
      },
      "source": [
        "data2015.drop(['weather','month_01',\t'month_02',\t'month_03',\t'month_04',\t'month_05',\t'month_06',\t'month_07',\n",
        "               'month_08',\t'month_09',\t'month_10',\t'month_11',\t'month_12'],axis=1,inplace=True)"
      ],
      "execution_count": 0,
      "outputs": []
    },
    {
      "cell_type": "code",
      "metadata": {
        "id": "28Yb4piQRO_m",
        "colab_type": "code",
        "colab": {}
      },
      "source": [
        "data2014.drop(['weather','month_01',\t'month_03',\t'month_04',\t'month_05',\t'month_06',\t'month_07',\n",
        "               'month_08',\t'month_09',\t'month_10',\t'month_11',\t'month_12'],axis=1,inplace=True)"
      ],
      "execution_count": 0,
      "outputs": []
    },
    {
      "cell_type": "code",
      "metadata": {
        "id": "4fKR41pORTUj",
        "colab_type": "code",
        "colab": {}
      },
      "source": [
        "data2013.drop(['weather','month_01',\t'month_02',\t'month_03',\t'month_04',\t'month_05',\t'month_06',\t'month_07',\n",
        "               'month_08',\t'month_09',\t'month_10',\t'month_11',\t'month_12'],axis=1,inplace=True)"
      ],
      "execution_count": 0,
      "outputs": []
    },
    {
      "cell_type": "code",
      "metadata": {
        "id": "sfIDsJevRV0O",
        "colab_type": "code",
        "colab": {}
      },
      "source": [
        "data2012.drop(['weather','month_01',\t'month_02',\t'month_03',\t'month_04',\t'month_05',\t'month_06',\t'month_07',\n",
        "               'month_08',\t'month_09',\t'month_10',\t'month_11',\t'month_12'],axis=1,inplace=True)"
      ],
      "execution_count": 0,
      "outputs": []
    },
    {
      "cell_type": "code",
      "metadata": {
        "id": "0u43fIk2RXli",
        "colab_type": "code",
        "colab": {}
      },
      "source": [
        "data2011.drop(['weather','month_01',\t'month_02',\t'month_03',\t'month_04',\t'month_05',\t'month_06',\t'month_07',\n",
        "               'month_08',\t'month_09',\t'month_10',\t'month_11',\t'month_12'],axis=1,inplace=True)"
      ],
      "execution_count": 0,
      "outputs": []
    },
    {
      "cell_type": "code",
      "metadata": {
        "id": "00buRAgWRZK4",
        "colab_type": "code",
        "colab": {}
      },
      "source": [
        "data2010.drop(['weather','month_01',\t'month_02',\t'month_03',\t'month_04',\t'month_05',\t'month_06',\t'month_07',\n",
        "               'month_08',\t'month_09',\t'month_10',\t'month_11',\t'month_12'],axis=1,inplace=True)"
      ],
      "execution_count": 0,
      "outputs": []
    },
    {
      "cell_type": "code",
      "metadata": {
        "id": "1rEWtJbFRbAg",
        "colab_type": "code",
        "colab": {}
      },
      "source": [
        "data2009.drop(['weather',\t'month_02',\t'month_03',\t'month_04',\t'month_05',\t'month_06',\t'month_07',\n",
        "               'month_08',\t'month_09',\t'month_10',\t'month_11',\t'month_12'],axis=1,inplace=True)"
      ],
      "execution_count": 0,
      "outputs": []
    },
    {
      "cell_type": "code",
      "metadata": {
        "id": "qPpk_AA5Re6Y",
        "colab_type": "code",
        "colab": {}
      },
      "source": [
        "data2008.drop(['weather','month_01',\t'month_02',\t'month_03',\t'month_04',\t'month_05',\t'month_06',\t'month_07',\n",
        "               'month_08',\t'month_09',\t'month_10',\t'month_11',\t'month_12'],axis=1,inplace=True)"
      ],
      "execution_count": 0,
      "outputs": []
    },
    {
      "cell_type": "code",
      "metadata": {
        "id": "tB-1bapARhDZ",
        "colab_type": "code",
        "colab": {}
      },
      "source": [
        "data2007.drop(['weather','month_01',\t'month_02',\t'month_03',\t'month_04',\t'month_05',\t'month_06',\t'month_07',\n",
        "               'month_08',\t'month_09',\t'month_10',\t'month_11',\t'month_12'],axis=1,inplace=True)"
      ],
      "execution_count": 0,
      "outputs": []
    },
    {
      "cell_type": "code",
      "metadata": {
        "id": "4hMbXflZRjWd",
        "colab_type": "code",
        "colab": {}
      },
      "source": [
        "data2006.drop(['weather','month_01',\t'month_02',\t'month_03',\t'month_04',\t'month_05',\t'month_06',\t'month_07',\n",
        "               'month_08',\t'month_09',\t'month_10',\t'month_11',\t'month_12'],axis=1,inplace=True)"
      ],
      "execution_count": 0,
      "outputs": []
    },
    {
      "cell_type": "code",
      "metadata": {
        "id": "aVmXqk9ERl5a",
        "colab_type": "code",
        "colab": {}
      },
      "source": [
        "data2005.drop(['weather','month_01',\t'month_02',\t'month_03',\t'month_04',\t'month_05',\t'month_06',\t'month_07',\n",
        "               'month_08',\t'month_09',\t'month_10',\t'month_11',\t'month_12'],axis=1,inplace=True)"
      ],
      "execution_count": 0,
      "outputs": []
    },
    {
      "cell_type": "code",
      "metadata": {
        "id": "O3JBa86aRpNl",
        "colab_type": "code",
        "colab": {}
      },
      "source": [
        "data2019.drop(['season'],axis=1,inplace=True)"
      ],
      "execution_count": 0,
      "outputs": []
    },
    {
      "cell_type": "code",
      "metadata": {
        "id": "Lh68W831R49x",
        "colab_type": "code",
        "colab": {}
      },
      "source": [
        "data2018.drop(['season'],axis=1,inplace=True)\n",
        "data2017.drop(['season'],axis=1,inplace=True)\n",
        "data2016.drop(['season'],axis=1,inplace=True)\n",
        "data2015.drop(['season'],axis=1,inplace=True)\n",
        "data2014.drop(['season'],axis=1,inplace=True)\n",
        "data2013.drop(['season'],axis=1,inplace=True)\n",
        "data2012.drop(['season'],axis=1,inplace=True)\n",
        "data2011.drop(['season'],axis=1,inplace=True)\n",
        "data2010.drop(['season'],axis=1,inplace=True)\n",
        "data2009.drop(['season'],axis=1,inplace=True)\n",
        "data2008.drop(['season'],axis=1,inplace=True)\n",
        "data2007.drop(['season'],axis=1,inplace=True)\n",
        "data2006.drop(['season'],axis=1,inplace=True)\n",
        "data2005.drop(['season'],axis=1,inplace=True)"
      ],
      "execution_count": 0,
      "outputs": []
    },
    {
      "cell_type": "code",
      "metadata": {
        "id": "ZqMJYho9SLfa",
        "colab_type": "code",
        "colab": {}
      },
      "source": [
        "data2019.to_csv(\"data2019.csv\")\n",
        "data2018.to_csv(\"data2018.csv\")\n",
        "data2017.to_csv(\"data2017.csv\")\n",
        "data2016.to_csv(\"data2016.csv\")\n",
        "data2015.to_csv(\"data2015.csv\")\n",
        "data2014.to_csv(\"data2014.csv\")\n",
        "data2013.to_csv(\"data2013.csv\")\n",
        "data2012.to_csv(\"data2012.csv\")\n",
        "data2011.to_csv(\"data2011.csv\")\n",
        "data2010.to_csv(\"data2010.csv\")\n",
        "data2009.to_csv(\"data2009.csv\")\n",
        "data2008.to_csv(\"data2008.csv\")\n",
        "data2007.to_csv(\"data2007.csv\")\n",
        "data2006.to_csv(\"data2006.csv\")\n",
        "data2005.to_csv(\"data2005.csv\")"
      ],
      "execution_count": 0,
      "outputs": []
    }
  ]
}
