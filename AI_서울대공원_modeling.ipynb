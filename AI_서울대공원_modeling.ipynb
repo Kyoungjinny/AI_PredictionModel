{
  "nbformat": 4,
  "nbformat_minor": 0,
  "metadata": {
    "colab": {
      "name": "AI_서울대공원_modeling.ipynb",
      "provenance": [],
      "collapsed_sections": [],
      "include_colab_link": true
    },
    "kernelspec": {
      "name": "python3",
      "display_name": "Python 3"
    },
    "accelerator": "GPU"
  },
  "cells": [
    {
      "cell_type": "markdown",
      "metadata": {
        "id": "view-in-github",
        "colab_type": "text"
      },
      "source": [
        "<a href=\"https://colab.research.google.com/github/Kyoungjinny/AI_PredictionModel/blob/predict/AI_%EC%84%9C%EC%9A%B8%EB%8C%80%EA%B3%B5%EC%9B%90_modeling.ipynb\" target=\"_parent\"><img src=\"https://colab.research.google.com/assets/colab-badge.svg\" alt=\"Open In Colab\"/></a>"
      ]
    },
    {
      "cell_type": "code",
      "metadata": {
        "id": "GYM1roh5oxw-",
        "colab_type": "code",
        "outputId": "fbf47403-9a36-478f-9275-9063b3668953",
        "colab": {
          "resources": {
            "http://localhost:8080/nbextensions/google.colab/files.js": {
              "data": "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",
              "ok": true,
              "headers": [
                [
                  "content-type",
                  "application/javascript"
                ]
              ],
              "status": 200,
              "status_text": ""
            }
          },
          "base_uri": "https://localhost:8080/",
          "height": 71
        }
      },
      "source": [
        "from google.colab import files\n",
        "uploaded = files.upload()"
      ],
      "execution_count": 0,
      "outputs": [
        {
          "output_type": "display_data",
          "data": {
            "text/html": [
              "\n",
              "     <input type=\"file\" id=\"files-c58e4e7f-9bc4-4796-96f4-07eb8cde6aef\" name=\"files[]\" multiple disabled />\n",
              "     <output id=\"result-c58e4e7f-9bc4-4796-96f4-07eb8cde6aef\">\n",
              "      Upload widget is only available when the cell has been executed in the\n",
              "      current browser session. Please rerun this cell to enable.\n",
              "      </output>\n",
              "      <script src=\"/nbextensions/google.colab/files.js\"></script> "
            ],
            "text/plain": [
              "<IPython.core.display.HTML object>"
            ]
          },
          "metadata": {
            "tags": []
          }
        },
        {
          "output_type": "stream",
          "text": [
            "Saving data2005_2014.csv to data2005_2014 (2).csv\n"
          ],
          "name": "stdout"
        }
      ]
    },
    {
      "cell_type": "code",
      "metadata": {
        "id": "ubha6nSE-_UW",
        "colab_type": "code",
        "colab": {}
      },
      "source": [
        "import pandas as pd\n",
        "import numpy as np"
      ],
      "execution_count": 0,
      "outputs": []
    },
    {
      "cell_type": "code",
      "metadata": {
        "id": "7nrdLqxR_Ii4",
        "colab_type": "code",
        "colab": {}
      },
      "source": [
        "import io\n",
        "data = pd.read_csv(io.BytesIO(uploaded['data2005_2014.csv']))"
      ],
      "execution_count": 0,
      "outputs": []
    },
    {
      "cell_type": "markdown",
      "metadata": {
        "id": "h7TrSiq3VpmT",
        "colab_type": "text"
      },
      "source": [
        "# Modeling"
      ]
    },
    {
      "cell_type": "code",
      "metadata": {
        "id": "sf9zX0k0ZQlA",
        "colab_type": "code",
        "outputId": "9cb00b04-5e7e-4b3c-fa93-c8d7ee4d9e13",
        "colab": {
          "base_uri": "https://localhost:8080/",
          "height": 745
        }
      },
      "source": [
        "from sklearn.model_selection import train_test_split\n",
        "\n",
        "y = data.pop('m_total')\n",
        "X = data\n",
        "\n",
        "X_train,X_test,y_train,y_test = train_test_split(X.index,y,test_size=0.2)\n",
        "X.iloc[X_train] # return dataframe train"
      ],
      "execution_count": 0,
      "outputs": [
        {
          "output_type": "execute_result",
          "data": {
            "text/html": [
              "<div>\n",
              "<style scoped>\n",
              "    .dataframe tbody tr th:only-of-type {\n",
              "        vertical-align: middle;\n",
              "    }\n",
              "\n",
              "    .dataframe tbody tr th {\n",
              "        vertical-align: top;\n",
              "    }\n",
              "\n",
              "    .dataframe thead th {\n",
              "        text-align: right;\n",
              "    }\n",
              "</style>\n",
              "<table border=\"1\" class=\"dataframe\">\n",
              "  <thead>\n",
              "    <tr style=\"text-align: right;\">\n",
              "      <th></th>\n",
              "      <th>10분 최다 강수량(mm)</th>\n",
              "      <th>1시간 최다강수량(mm)</th>\n",
              "      <th>break_summer</th>\n",
              "      <th>break_winter</th>\n",
              "      <th>cloud</th>\n",
              "      <th>cloud_w</th>\n",
              "      <th>date_fri</th>\n",
              "      <th>date_mon</th>\n",
              "      <th>date_sat</th>\n",
              "      <th>date_sun</th>\n",
              "      <th>date_thur</th>\n",
              "      <th>date_tue</th>\n",
              "      <th>date_wed</th>\n",
              "      <th>fall</th>\n",
              "      <th>humid</th>\n",
              "      <th>humid_w</th>\n",
              "      <th>rain</th>\n",
              "      <th>spring</th>\n",
              "      <th>summer</th>\n",
              "      <th>temp</th>\n",
              "      <th>temp_w</th>\n",
              "      <th>when</th>\n",
              "      <th>wind</th>\n",
              "      <th>wind_w</th>\n",
              "      <th>winter</th>\n",
              "      <th>강수 계속시간(hr)</th>\n",
              "      <th>일강수량(mm)</th>\n",
              "    </tr>\n",
              "  </thead>\n",
              "  <tbody>\n",
              "    <tr>\n",
              "      <th>407</th>\n",
              "      <td>0.0</td>\n",
              "      <td>0.0</td>\n",
              "      <td>0.0</td>\n",
              "      <td>0.0</td>\n",
              "      <td>4.0</td>\n",
              "      <td>2.0</td>\n",
              "      <td>0</td>\n",
              "      <td>1</td>\n",
              "      <td>0</td>\n",
              "      <td>0</td>\n",
              "      <td>0</td>\n",
              "      <td>0</td>\n",
              "      <td>0</td>\n",
              "      <td>1.0</td>\n",
              "      <td>69.9</td>\n",
              "      <td>5.0</td>\n",
              "      <td>0.0</td>\n",
              "      <td>0</td>\n",
              "      <td>0.0</td>\n",
              "      <td>15.2</td>\n",
              "      <td>4.0</td>\n",
              "      <td>2018-10-15</td>\n",
              "      <td>1.4</td>\n",
              "      <td>1.0</td>\n",
              "      <td>0</td>\n",
              "      <td>0.00</td>\n",
              "      <td>0.0</td>\n",
              "    </tr>\n",
              "    <tr>\n",
              "      <th>533</th>\n",
              "      <td>0.0</td>\n",
              "      <td>0.0</td>\n",
              "      <td>0.0</td>\n",
              "      <td>0.0</td>\n",
              "      <td>5.5</td>\n",
              "      <td>2.0</td>\n",
              "      <td>0</td>\n",
              "      <td>1</td>\n",
              "      <td>0</td>\n",
              "      <td>0</td>\n",
              "      <td>0</td>\n",
              "      <td>0</td>\n",
              "      <td>0</td>\n",
              "      <td>0.0</td>\n",
              "      <td>61.4</td>\n",
              "      <td>5.0</td>\n",
              "      <td>0.0</td>\n",
              "      <td>1</td>\n",
              "      <td>0.0</td>\n",
              "      <td>16.0</td>\n",
              "      <td>5.0</td>\n",
              "      <td>2017-05-15</td>\n",
              "      <td>2.8</td>\n",
              "      <td>1.0</td>\n",
              "      <td>0</td>\n",
              "      <td>0.42</td>\n",
              "      <td>0.0</td>\n",
              "    </tr>\n",
              "    <tr>\n",
              "      <th>904</th>\n",
              "      <td>0.0</td>\n",
              "      <td>0.0</td>\n",
              "      <td>0.0</td>\n",
              "      <td>0.0</td>\n",
              "      <td>0.0</td>\n",
              "      <td>0.0</td>\n",
              "      <td>1</td>\n",
              "      <td>0</td>\n",
              "      <td>0</td>\n",
              "      <td>0</td>\n",
              "      <td>0</td>\n",
              "      <td>0</td>\n",
              "      <td>0</td>\n",
              "      <td>0.0</td>\n",
              "      <td>0.0</td>\n",
              "      <td>0.0</td>\n",
              "      <td>0.0</td>\n",
              "      <td>1</td>\n",
              "      <td>0.0</td>\n",
              "      <td>0.0</td>\n",
              "      <td>0.0</td>\n",
              "      <td>0</td>\n",
              "      <td>0.0</td>\n",
              "      <td>0.0</td>\n",
              "      <td>0</td>\n",
              "      <td>0.00</td>\n",
              "      <td>0.0</td>\n",
              "    </tr>\n",
              "    <tr>\n",
              "      <th>103</th>\n",
              "      <td>0.4</td>\n",
              "      <td>1.3</td>\n",
              "      <td>0.0</td>\n",
              "      <td>0.0</td>\n",
              "      <td>6.0</td>\n",
              "      <td>3.0</td>\n",
              "      <td>0</td>\n",
              "      <td>0</td>\n",
              "      <td>0</td>\n",
              "      <td>1</td>\n",
              "      <td>0</td>\n",
              "      <td>0</td>\n",
              "      <td>0</td>\n",
              "      <td>0.0</td>\n",
              "      <td>45.5</td>\n",
              "      <td>3.0</td>\n",
              "      <td>1.7</td>\n",
              "      <td>1</td>\n",
              "      <td>0.0</td>\n",
              "      <td>9.6</td>\n",
              "      <td>3.0</td>\n",
              "      <td>2019-04-14</td>\n",
              "      <td>2.2</td>\n",
              "      <td>1.0</td>\n",
              "      <td>0</td>\n",
              "      <td>6.25</td>\n",
              "      <td>1.7</td>\n",
              "    </tr>\n",
              "    <tr>\n",
              "      <th>50</th>\n",
              "      <td>0.0</td>\n",
              "      <td>0.0</td>\n",
              "      <td>0.0</td>\n",
              "      <td>1.0</td>\n",
              "      <td>6.5</td>\n",
              "      <td>3.0</td>\n",
              "      <td>0</td>\n",
              "      <td>0</td>\n",
              "      <td>0</td>\n",
              "      <td>0</td>\n",
              "      <td>0</td>\n",
              "      <td>0</td>\n",
              "      <td>1</td>\n",
              "      <td>0.0</td>\n",
              "      <td>67.8</td>\n",
              "      <td>5.0</td>\n",
              "      <td>0.0</td>\n",
              "      <td>0</td>\n",
              "      <td>0.0</td>\n",
              "      <td>1.7</td>\n",
              "      <td>1.0</td>\n",
              "      <td>2019-02-20</td>\n",
              "      <td>2.1</td>\n",
              "      <td>1.0</td>\n",
              "      <td>1</td>\n",
              "      <td>2.33</td>\n",
              "      <td>0.0</td>\n",
              "    </tr>\n",
              "    <tr>\n",
              "      <th>...</th>\n",
              "      <td>...</td>\n",
              "      <td>...</td>\n",
              "      <td>...</td>\n",
              "      <td>...</td>\n",
              "      <td>...</td>\n",
              "      <td>...</td>\n",
              "      <td>...</td>\n",
              "      <td>...</td>\n",
              "      <td>...</td>\n",
              "      <td>...</td>\n",
              "      <td>...</td>\n",
              "      <td>...</td>\n",
              "      <td>...</td>\n",
              "      <td>...</td>\n",
              "      <td>...</td>\n",
              "      <td>...</td>\n",
              "      <td>...</td>\n",
              "      <td>...</td>\n",
              "      <td>...</td>\n",
              "      <td>...</td>\n",
              "      <td>...</td>\n",
              "      <td>...</td>\n",
              "      <td>...</td>\n",
              "      <td>...</td>\n",
              "      <td>...</td>\n",
              "      <td>...</td>\n",
              "      <td>...</td>\n",
              "    </tr>\n",
              "    <tr>\n",
              "      <th>278</th>\n",
              "      <td>0.0</td>\n",
              "      <td>0.0</td>\n",
              "      <td>0.0</td>\n",
              "      <td>0.0</td>\n",
              "      <td>5.5</td>\n",
              "      <td>2.0</td>\n",
              "      <td>1</td>\n",
              "      <td>0</td>\n",
              "      <td>0</td>\n",
              "      <td>0</td>\n",
              "      <td>0</td>\n",
              "      <td>0</td>\n",
              "      <td>0</td>\n",
              "      <td>0.0</td>\n",
              "      <td>68.0</td>\n",
              "      <td>5.0</td>\n",
              "      <td>0.0</td>\n",
              "      <td>0</td>\n",
              "      <td>1.0</td>\n",
              "      <td>21.9</td>\n",
              "      <td>5.0</td>\n",
              "      <td>2018-06-08</td>\n",
              "      <td>2.1</td>\n",
              "      <td>1.0</td>\n",
              "      <td>0</td>\n",
              "      <td>0.00</td>\n",
              "      <td>0.0</td>\n",
              "    </tr>\n",
              "    <tr>\n",
              "      <th>530</th>\n",
              "      <td>0.0</td>\n",
              "      <td>0.0</td>\n",
              "      <td>0.0</td>\n",
              "      <td>0.0</td>\n",
              "      <td>8.0</td>\n",
              "      <td>3.0</td>\n",
              "      <td>1</td>\n",
              "      <td>0</td>\n",
              "      <td>0</td>\n",
              "      <td>0</td>\n",
              "      <td>0</td>\n",
              "      <td>0</td>\n",
              "      <td>0</td>\n",
              "      <td>0.0</td>\n",
              "      <td>71.6</td>\n",
              "      <td>5.0</td>\n",
              "      <td>0.0</td>\n",
              "      <td>1</td>\n",
              "      <td>0.0</td>\n",
              "      <td>19.1</td>\n",
              "      <td>5.0</td>\n",
              "      <td>2017-05-12</td>\n",
              "      <td>2.1</td>\n",
              "      <td>1.0</td>\n",
              "      <td>0</td>\n",
              "      <td>0.00</td>\n",
              "      <td>0.0</td>\n",
              "    </tr>\n",
              "    <tr>\n",
              "      <th>94</th>\n",
              "      <td>0.0</td>\n",
              "      <td>0.0</td>\n",
              "      <td>0.0</td>\n",
              "      <td>0.0</td>\n",
              "      <td>3.0</td>\n",
              "      <td>2.0</td>\n",
              "      <td>1</td>\n",
              "      <td>0</td>\n",
              "      <td>0</td>\n",
              "      <td>0</td>\n",
              "      <td>0</td>\n",
              "      <td>0</td>\n",
              "      <td>0</td>\n",
              "      <td>0.0</td>\n",
              "      <td>41.0</td>\n",
              "      <td>3.0</td>\n",
              "      <td>0.0</td>\n",
              "      <td>1</td>\n",
              "      <td>0.0</td>\n",
              "      <td>11.4</td>\n",
              "      <td>4.0</td>\n",
              "      <td>2019-04-05</td>\n",
              "      <td>2.9</td>\n",
              "      <td>1.0</td>\n",
              "      <td>0</td>\n",
              "      <td>2.83</td>\n",
              "      <td>0.0</td>\n",
              "    </tr>\n",
              "    <tr>\n",
              "      <th>576</th>\n",
              "      <td>0.0</td>\n",
              "      <td>0.0</td>\n",
              "      <td>0.0</td>\n",
              "      <td>0.0</td>\n",
              "      <td>6.4</td>\n",
              "      <td>3.0</td>\n",
              "      <td>0</td>\n",
              "      <td>0</td>\n",
              "      <td>0</td>\n",
              "      <td>0</td>\n",
              "      <td>0</td>\n",
              "      <td>1</td>\n",
              "      <td>0</td>\n",
              "      <td>0.0</td>\n",
              "      <td>67.5</td>\n",
              "      <td>5.0</td>\n",
              "      <td>0.0</td>\n",
              "      <td>0</td>\n",
              "      <td>1.0</td>\n",
              "      <td>25.2</td>\n",
              "      <td>6.0</td>\n",
              "      <td>2017-06-27</td>\n",
              "      <td>2.2</td>\n",
              "      <td>1.0</td>\n",
              "      <td>0</td>\n",
              "      <td>0.67</td>\n",
              "      <td>0.0</td>\n",
              "    </tr>\n",
              "    <tr>\n",
              "      <th>644</th>\n",
              "      <td>0.0</td>\n",
              "      <td>0.0</td>\n",
              "      <td>0.0</td>\n",
              "      <td>0.0</td>\n",
              "      <td>3.0</td>\n",
              "      <td>2.0</td>\n",
              "      <td>0</td>\n",
              "      <td>0</td>\n",
              "      <td>0</td>\n",
              "      <td>1</td>\n",
              "      <td>0</td>\n",
              "      <td>0</td>\n",
              "      <td>0</td>\n",
              "      <td>1.0</td>\n",
              "      <td>64.0</td>\n",
              "      <td>5.0</td>\n",
              "      <td>0.0</td>\n",
              "      <td>0</td>\n",
              "      <td>0.0</td>\n",
              "      <td>23.7</td>\n",
              "      <td>6.0</td>\n",
              "      <td>2017-09-03</td>\n",
              "      <td>1.6</td>\n",
              "      <td>1.0</td>\n",
              "      <td>0</td>\n",
              "      <td>0.00</td>\n",
              "      <td>0.0</td>\n",
              "    </tr>\n",
              "  </tbody>\n",
              "</table>\n",
              "<p>892 rows × 27 columns</p>\n",
              "</div>"
            ],
            "text/plain": [
              "     10분 최다 강수량(mm)  1시간 최다강수량(mm)  break_summer  ...  winter  강수 계속시간(hr)  일강수량(mm)\n",
              "407             0.0            0.0           0.0  ...       0         0.00       0.0\n",
              "533             0.0            0.0           0.0  ...       0         0.42       0.0\n",
              "904             0.0            0.0           0.0  ...       0         0.00       0.0\n",
              "103             0.4            1.3           0.0  ...       0         6.25       1.7\n",
              "50              0.0            0.0           0.0  ...       1         2.33       0.0\n",
              "..              ...            ...           ...  ...     ...          ...       ...\n",
              "278             0.0            0.0           0.0  ...       0         0.00       0.0\n",
              "530             0.0            0.0           0.0  ...       0         0.00       0.0\n",
              "94              0.0            0.0           0.0  ...       0         2.83       0.0\n",
              "576             0.0            0.0           0.0  ...       0         0.67       0.0\n",
              "644             0.0            0.0           0.0  ...       0         0.00       0.0\n",
              "\n",
              "[892 rows x 27 columns]"
            ]
          },
          "metadata": {
            "tags": []
          },
          "execution_count": 36
        }
      ]
    },
    {
      "cell_type": "code",
      "metadata": {
        "id": "ecyJHirz1JCo",
        "colab_type": "code",
        "outputId": "72e509f8-44f7-410f-a2a0-d6d7edceb39d",
        "colab": {
          "base_uri": "https://localhost:8080/",
          "height": 238
        }
      },
      "source": [
        "print(y_train.shape)\n",
        "y_train.head"
      ],
      "execution_count": 0,
      "outputs": [
        {
          "output_type": "stream",
          "text": [
            "(892,)\n"
          ],
          "name": "stdout"
        },
        {
          "output_type": "execute_result",
          "data": {
            "text/plain": [
              "<bound method NDFrame.head of 407     7580\n",
              "533     6424\n",
              "904    23976\n",
              "103     5017\n",
              "50       832\n",
              "       ...  \n",
              "278     7157\n",
              "530    18841\n",
              "94      4100\n",
              "576     2243\n",
              "644    23991\n",
              "Name: m_total, Length: 892, dtype: int64>"
            ]
          },
          "metadata": {
            "tags": []
          },
          "execution_count": 37
        }
      ]
    },
    {
      "cell_type": "code",
      "metadata": {
        "id": "EBFhDMsj5kuI",
        "colab_type": "code",
        "colab": {}
      },
      "source": [
        "y_train = np.reshape(y_train.values,(-1,1))\n",
        "X_train = np.reshape(X_train.values,(-1,1))\n",
        "y_test = np.reshape(y_test.values,(-1,1))\n",
        "X_test = np.reshape(X_test.values,(-1,1))"
      ],
      "execution_count": 0,
      "outputs": []
    },
    {
      "cell_type": "markdown",
      "metadata": {
        "id": "4i-ytTmA83l7",
        "colab_type": "text"
      },
      "source": [
        "**Random Forest Regression**"
      ]
    },
    {
      "cell_type": "code",
      "metadata": {
        "id": "5-1UC-Heza92",
        "colab_type": "code",
        "outputId": "43a9ea85-b572-4225-92c7-78a97ff5f521",
        "colab": {
          "base_uri": "https://localhost:8080/",
          "height": 34
        }
      },
      "source": [
        "from sklearn.metrics import make_scorer\n",
        "\n",
        "def rmsle(predicted_values, actual_values):\n",
        "    predicted_values = np.array(predicted_values)\n",
        "    actual_values = np.array(actual_values)\n",
        "\n",
        "    log_predict = np.log(predicted_values + 1)\n",
        "    log_actual = np.log(actual_values + 1)\n",
        "\n",
        "    difference = log_predict - log_actual\n",
        "    difference = np.square(difference)\n",
        "\n",
        "    mean_difference = difference.mean()\n",
        "    score = np.sqrt(mean_difference)\n",
        "    return score\n",
        "\n",
        "rmsle_scorer = make_scorer(rmsle)\n",
        "rmsle_scorer"
      ],
      "execution_count": 0,
      "outputs": [
        {
          "output_type": "execute_result",
          "data": {
            "text/plain": [
              "make_scorer(rmsle)"
            ]
          },
          "metadata": {
            "tags": []
          },
          "execution_count": 41
        }
      ]
    },
    {
      "cell_type": "code",
      "metadata": {
        "id": "--6KNy_b0u8H",
        "colab_type": "code",
        "colab": {}
      },
      "source": [
        "from sklearn.model_selection import KFold\n",
        "from sklearn.model_selection import cross_val_score\n",
        "\n",
        "k_fold = KFold(n_splits=10, shuffle=True, random_state=0)"
      ],
      "execution_count": 0,
      "outputs": []
    },
    {
      "cell_type": "code",
      "metadata": {
        "id": "Mwlnr4Ab01lp",
        "colab_type": "code",
        "outputId": "3bd3d774-6dcc-4996-a260-91820e3c331e",
        "colab": {
          "base_uri": "https://localhost:8080/",
          "height": 136
        }
      },
      "source": [
        "from sklearn.ensemble import RandomForestRegressor\n",
        "\n",
        "max_depth_list = []\n",
        "\n",
        "model = RandomForestRegressor(n_estimators=100,\n",
        "                              n_jobs=-1,\n",
        "                              random_state=0)\n",
        "model"
      ],
      "execution_count": 0,
      "outputs": [
        {
          "output_type": "execute_result",
          "data": {
            "text/plain": [
              "RandomForestRegressor(bootstrap=True, criterion='mse', max_depth=None,\n",
              "                      max_features='auto', max_leaf_nodes=None,\n",
              "                      min_impurity_decrease=0.0, min_impurity_split=None,\n",
              "                      min_samples_leaf=1, min_samples_split=2,\n",
              "                      min_weight_fraction_leaf=0.0, n_estimators=100, n_jobs=-1,\n",
              "                      oob_score=False, random_state=0, verbose=0,\n",
              "                      warm_start=False)"
            ]
          },
          "metadata": {
            "tags": []
          },
          "execution_count": 43
        }
      ]
    },
    {
      "cell_type": "code",
      "metadata": {
        "id": "tiD_kJAW03yJ",
        "colab_type": "code",
        "outputId": "b11516bc-e47e-4c9d-9c84-9ea1d5218392",
        "colab": {
          "base_uri": "https://localhost:8080/",
          "height": 428
        }
      },
      "source": [
        "%time score = cross_val_score(model, X_train, y_train, cv=k_fold, scoring=rmsle_scorer)\n",
        "score = score.mean()\n",
        "# 0에 근접할수록 좋은 데이터\n",
        "print(\"Score= {0:.5f}\".format(score))"
      ],
      "execution_count": 0,
      "outputs": [
        {
          "output_type": "stream",
          "text": [
            "/usr/local/lib/python3.6/dist-packages/sklearn/model_selection/_validation.py:516: DataConversionWarning: A column-vector y was passed when a 1d array was expected. Please change the shape of y to (n_samples,), for example using ravel().\n",
            "  estimator.fit(X_train, y_train, **fit_params)\n",
            "/usr/local/lib/python3.6/dist-packages/sklearn/model_selection/_validation.py:516: DataConversionWarning: A column-vector y was passed when a 1d array was expected. Please change the shape of y to (n_samples,), for example using ravel().\n",
            "  estimator.fit(X_train, y_train, **fit_params)\n",
            "/usr/local/lib/python3.6/dist-packages/sklearn/model_selection/_validation.py:516: DataConversionWarning: A column-vector y was passed when a 1d array was expected. Please change the shape of y to (n_samples,), for example using ravel().\n",
            "  estimator.fit(X_train, y_train, **fit_params)\n",
            "/usr/local/lib/python3.6/dist-packages/sklearn/model_selection/_validation.py:516: DataConversionWarning: A column-vector y was passed when a 1d array was expected. Please change the shape of y to (n_samples,), for example using ravel().\n",
            "  estimator.fit(X_train, y_train, **fit_params)\n",
            "/usr/local/lib/python3.6/dist-packages/sklearn/model_selection/_validation.py:516: DataConversionWarning: A column-vector y was passed when a 1d array was expected. Please change the shape of y to (n_samples,), for example using ravel().\n",
            "  estimator.fit(X_train, y_train, **fit_params)\n",
            "/usr/local/lib/python3.6/dist-packages/sklearn/model_selection/_validation.py:516: DataConversionWarning: A column-vector y was passed when a 1d array was expected. Please change the shape of y to (n_samples,), for example using ravel().\n",
            "  estimator.fit(X_train, y_train, **fit_params)\n",
            "/usr/local/lib/python3.6/dist-packages/sklearn/model_selection/_validation.py:516: DataConversionWarning: A column-vector y was passed when a 1d array was expected. Please change the shape of y to (n_samples,), for example using ravel().\n",
            "  estimator.fit(X_train, y_train, **fit_params)\n",
            "/usr/local/lib/python3.6/dist-packages/sklearn/model_selection/_validation.py:516: DataConversionWarning: A column-vector y was passed when a 1d array was expected. Please change the shape of y to (n_samples,), for example using ravel().\n",
            "  estimator.fit(X_train, y_train, **fit_params)\n",
            "/usr/local/lib/python3.6/dist-packages/sklearn/model_selection/_validation.py:516: DataConversionWarning: A column-vector y was passed when a 1d array was expected. Please change the shape of y to (n_samples,), for example using ravel().\n",
            "  estimator.fit(X_train, y_train, **fit_params)\n",
            "/usr/local/lib/python3.6/dist-packages/sklearn/model_selection/_validation.py:516: DataConversionWarning: A column-vector y was passed when a 1d array was expected. Please change the shape of y to (n_samples,), for example using ravel().\n",
            "  estimator.fit(X_train, y_train, **fit_params)\n"
          ],
          "name": "stderr"
        },
        {
          "output_type": "stream",
          "text": [
            "CPU times: user 1.56 s, sys: 167 ms, total: 1.73 s\n",
            "Wall time: 4.77 s\n",
            "Score= 1.60902\n"
          ],
          "name": "stdout"
        }
      ]
    },
    {
      "cell_type": "code",
      "metadata": {
        "id": "FAYvkyRm07xx",
        "colab_type": "code",
        "outputId": "b4d2b6f0-15c6-4ab5-99f8-22a620ff51e9",
        "colab": {
          "base_uri": "https://localhost:8080/",
          "height": 190
        }
      },
      "source": [
        "model.fit(X_train, y_train)"
      ],
      "execution_count": 0,
      "outputs": [
        {
          "output_type": "stream",
          "text": [
            "/usr/local/lib/python3.6/dist-packages/ipykernel_launcher.py:1: DataConversionWarning: A column-vector y was passed when a 1d array was expected. Please change the shape of y to (n_samples,), for example using ravel().\n",
            "  \"\"\"Entry point for launching an IPython kernel.\n"
          ],
          "name": "stderr"
        },
        {
          "output_type": "execute_result",
          "data": {
            "text/plain": [
              "RandomForestRegressor(bootstrap=True, criterion='mse', max_depth=None,\n",
              "                      max_features='auto', max_leaf_nodes=None,\n",
              "                      min_impurity_decrease=0.0, min_impurity_split=None,\n",
              "                      min_samples_leaf=1, min_samples_split=2,\n",
              "                      min_weight_fraction_leaf=0.0, n_estimators=100, n_jobs=-1,\n",
              "                      oob_score=False, random_state=0, verbose=0,\n",
              "                      warm_start=False)"
            ]
          },
          "metadata": {
            "tags": []
          },
          "execution_count": 45
        }
      ]
    },
    {
      "cell_type": "code",
      "metadata": {
        "id": "b-5uDYdL5cnB",
        "colab_type": "code",
        "outputId": "affff557-2145-4132-9847-aa557cbd624e",
        "colab": {
          "base_uri": "https://localhost:8080/",
          "height": 68
        }
      },
      "source": [
        "# 예측\n",
        "predictions = model.predict(X_test)\n",
        "\n",
        "print(predictions.shape)\n",
        "predictions[0:10]"
      ],
      "execution_count": 0,
      "outputs": [
        {
          "output_type": "stream",
          "text": [
            "(224,)\n"
          ],
          "name": "stdout"
        },
        {
          "output_type": "execute_result",
          "data": {
            "text/plain": [
              "array([ 2997.77,  2109.2 , 10101.99, 29644.66,  8644.72, 13144.19,\n",
              "        2294.15,  3238.7 , 15276.56, 11330.26])"
            ]
          },
          "metadata": {
            "tags": []
          },
          "execution_count": 46
        }
      ]
    },
    {
      "cell_type": "code",
      "metadata": {
        "id": "asz0dFWj5fPR",
        "colab_type": "code",
        "outputId": "f4d75ef3-d3ed-4496-aace-bd5c0ff149dc",
        "colab": {
          "base_uri": "https://localhost:8080/",
          "height": 353
        }
      },
      "source": [
        "# 예측한 데이터를 시각화 \n",
        "fig,(ax1,ax2)= plt.subplots(ncols=2)\n",
        "fig.set_size_inches(12,5)\n",
        "sns.distplot(y_train,ax=ax1,bins=50)\n",
        "ax1.set(title=\"train\")\n",
        "sns.distplot(predictions,ax=ax2,bins=50)\n",
        "ax2.set(title=\"test\")"
      ],
      "execution_count": 0,
      "outputs": [
        {
          "output_type": "execute_result",
          "data": {
            "text/plain": [
              "[Text(0.5, 1.0, 'test')]"
            ]
          },
          "metadata": {
            "tags": []
          },
          "execution_count": 47
        },
        {
          "output_type": "display_data",
          "data": {
            "image/png": "[encoded data removed]",
            "text/plain": [
              "<Figure size 864x360 with 2 Axes>"
            ]
          },
          "metadata": {
            "tags": []
          }
        }
      ]
    },
    {
      "cell_type": "markdown",
      "metadata": {
        "id": "pU-l4a3X8_3n",
        "colab_type": "text"
      },
      "source": [
        "**LSTM**"
      ]
    },
    {
      "cell_type": "code",
      "metadata": {
        "id": "xGj_QcYG5uHN",
        "colab_type": "code",
        "colab": {}
      },
      "source": [
        "from sklearn.preprocessing import MinMaxScaler\n",
        "sc = MinMaxScaler()\n",
        "X_train = np.reshape(X_train,(-1,1))\n",
        "y_train = np.reshape(y_train,(-1,1))\n",
        "X_train = sc.fit_transform(X_train)\n",
        "y_train = sc.fit_transform(y_train)"
      ],
      "execution_count": 0,
      "outputs": []
    },
    {
      "cell_type": "code",
      "metadata": {
        "id": "GBdvXQsr9bup",
        "colab_type": "code",
        "colab": {}
      },
      "source": [
        "X_train.shape\n",
        "X_train = np.reshape(X_train, (892,1,1))"
      ],
      "execution_count": 0,
      "outputs": []
    },
    {
      "cell_type": "code",
      "metadata": {
        "id": "ZYlc4l679IOX",
        "colab_type": "code",
        "outputId": "4c1a72e8-b389-4590-ff81-4a768dee24ff",
        "colab": {
          "base_uri": "https://localhost:8080/",
          "height": 593
        }
      },
      "source": [
        "from keras.models import Sequential\n",
        "from keras.layers import Dense\n",
        "from keras.layers import LSTM\n",
        "\n",
        "regressor = Sequential()\n",
        "\n",
        "regressor.add(LSTM(units = 8, activation = 'relu', input_shape = (None, 1)))\n",
        "\n",
        "regressor.add(Dense(units = 1))\n",
        "\n",
        "regressor.compile(optimizer = 'adam', loss = 'mean_squared_error')\n",
        "\n",
        "regressor.fit(X_train, y_train, batch_size = 10, epochs = 100, verbose = 0)"
      ],
      "execution_count": 0,
      "outputs": [
        {
          "output_type": "stream",
          "text": [
            "Using TensorFlow backend.\n"
          ],
          "name": "stderr"
        },
        {
          "output_type": "display_data",
          "data": {
            "text/html": [
              "<p style=\"color: red;\">\n",
              "The default version of TensorFlow in Colab will soon switch to TensorFlow 2.x.<br>\n",
              "We recommend you <a href=\"https://www.tensorflow.org/guide/migrate\" target=\"_blank\">upgrade</a> now \n",
              "or ensure your notebook will continue to use TensorFlow 1.x via the <code>%tensorflow_version 1.x</code> magic:\n",
              "<a href=\"https://colab.research.google.com/notebooks/tensorflow_version.ipynb\" target=\"_blank\">more info</a>.</p>\n"
            ],
            "text/plain": [
              "<IPython.core.display.HTML object>"
            ]
          },
          "metadata": {
            "tags": []
          }
        },
        {
          "output_type": "stream",
          "text": [
            "WARNING:tensorflow:From /usr/local/lib/python3.6/dist-packages/keras/backend/tensorflow_backend.py:66: The name tf.get_default_graph is deprecated. Please use tf.compat.v1.get_default_graph instead.\n",
            "\n",
            "WARNING:tensorflow:From /usr/local/lib/python3.6/dist-packages/keras/backend/tensorflow_backend.py:541: The name tf.placeholder is deprecated. Please use tf.compat.v1.placeholder instead.\n",
            "\n",
            "WARNING:tensorflow:From /usr/local/lib/python3.6/dist-packages/keras/backend/tensorflow_backend.py:4432: The name tf.random_uniform is deprecated. Please use tf.random.uniform instead.\n",
            "\n",
            "WARNING:tensorflow:From /usr/local/lib/python3.6/dist-packages/keras/optimizers.py:793: The name tf.train.Optimizer is deprecated. Please use tf.compat.v1.train.Optimizer instead.\n",
            "\n",
            "WARNING:tensorflow:From /usr/local/lib/python3.6/dist-packages/tensorflow_core/python/ops/math_grad.py:1424: where (from tensorflow.python.ops.array_ops) is deprecated and will be removed in a future version.\n",
            "Instructions for updating:\n",
            "Use tf.where in 2.0, which has the same broadcast rule as np.where\n",
            "WARNING:tensorflow:From /usr/local/lib/python3.6/dist-packages/keras/backend/tensorflow_backend.py:1033: The name tf.assign_add is deprecated. Please use tf.compat.v1.assign_add instead.\n",
            "\n",
            "WARNING:tensorflow:From /usr/local/lib/python3.6/dist-packages/keras/backend/tensorflow_backend.py:1020: The name tf.assign is deprecated. Please use tf.compat.v1.assign instead.\n",
            "\n",
            "WARNING:tensorflow:From /usr/local/lib/python3.6/dist-packages/keras/backend/tensorflow_backend.py:3005: The name tf.Session is deprecated. Please use tf.compat.v1.Session instead.\n",
            "\n",
            "WARNING:tensorflow:From /usr/local/lib/python3.6/dist-packages/keras/backend/tensorflow_backend.py:190: The name tf.get_default_session is deprecated. Please use tf.compat.v1.get_default_session instead.\n",
            "\n",
            "WARNING:tensorflow:From /usr/local/lib/python3.6/dist-packages/keras/backend/tensorflow_backend.py:197: The name tf.ConfigProto is deprecated. Please use tf.compat.v1.ConfigProto instead.\n",
            "\n",
            "WARNING:tensorflow:From /usr/local/lib/python3.6/dist-packages/keras/backend/tensorflow_backend.py:207: The name tf.global_variables is deprecated. Please use tf.compat.v1.global_variables instead.\n",
            "\n",
            "WARNING:tensorflow:From /usr/local/lib/python3.6/dist-packages/keras/backend/tensorflow_backend.py:216: The name tf.is_variable_initialized is deprecated. Please use tf.compat.v1.is_variable_initialized instead.\n",
            "\n",
            "WARNING:tensorflow:From /usr/local/lib/python3.6/dist-packages/keras/backend/tensorflow_backend.py:223: The name tf.variables_initializer is deprecated. Please use tf.compat.v1.variables_initializer instead.\n",
            "\n"
          ],
          "name": "stdout"
        },
        {
          "output_type": "execute_result",
          "data": {
            "text/plain": [
              "<keras.callbacks.History at 0x7fd0d91f51d0>"
            ]
          },
          "metadata": {
            "tags": []
          },
          "execution_count": 51
        }
      ]
    },
    {
      "cell_type": "code",
      "metadata": {
        "id": "_IfYF7eW9P_X",
        "colab_type": "code",
        "colab": {}
      },
      "source": [
        "inputs = X_test\n",
        "inputs = np.reshape(inputs,(-1,1))\n",
        "inputs = sc.transform(inputs)\n",
        "inputs = np.reshape(inputs, (224, 1, 1))\n",
        "y_pred = regressor.predict(inputs)\n",
        "y_pred = sc.inverse_transform(y_pred)"
      ],
      "execution_count": 0,
      "outputs": []
    },
    {
      "cell_type": "code",
      "metadata": {
        "id": "HZtQha8j-kRC",
        "colab_type": "code",
        "outputId": "51af59af-f9b9-4990-eace-a4d8e997e122",
        "colab": {
          "base_uri": "https://localhost:8080/",
          "height": 295
        }
      },
      "source": [
        "#Visualising Result\n",
        "plt.figure\n",
        "plt.plot(y_test, color = 'red', label = 'Actual Visitors')\n",
        "plt.plot(y_pred, color = 'blue', label = 'Predicted Visitors')\n",
        "plt.title('Visitors Forecasting')\n",
        "plt.xlabel('Number of Days')\n",
        "plt.ylabel('Visitors')\n",
        "plt.legend()\n",
        "plt.show()"
      ],
      "execution_count": 0,
      "outputs": [
        {
          "output_type": "display_data",
          "data": {
            "image/png": "[encoded data removed]",
            "text/plain": [
              "<Figure size 432x288 with 1 Axes>"
            ]
          },
          "metadata": {
            "tags": []
          }
        }
      ]
    },
    {
      "cell_type": "markdown",
      "metadata": {
        "id": "fCSwXmYHLcYR",
        "colab_type": "text"
      },
      "source": [
        "**MLP**"
      ]
    },
    {
      "cell_type": "code",
      "metadata": {
        "id": "6yy_oVpo-xYD",
        "colab_type": "code",
        "colab": {}
      },
      "source": [
        "from sklearn import datasets\n",
        "from sklearn import metrics\n",
        "from sklearn.neural_network import MLPClassifier\n",
        "from sklearn.neural_network import MLPRegressor\n",
        "from sklearn.model_selection import train_test_split\n",
        "import matplotlib.pyplot as plt    \n",
        "import seaborn as sns"
      ],
      "execution_count": 0,
      "outputs": []
    },
    {
      "cell_type": "code",
      "metadata": {
        "id": "a18Yu7suPO5r",
        "colab_type": "code",
        "colab": {}
      },
      "source": [
        "#y = data.pop('m_total')\n",
        "X = data\n",
        "\n",
        "X_train,X_test,y_train,y_test = train_test_split(X.index,y,test_size=0.2)\n",
        "\n",
        "y_train = np.reshape(y_train.values,(-1,1))\n",
        "X_train = np.reshape(X_train.values,(-1,1))\n",
        "y_test = np.reshape(y_test.values,(-1,1))\n",
        "X_test = np.reshape(X_test.values,(-1,1))"
      ],
      "execution_count": 0,
      "outputs": []
    },
    {
      "cell_type": "code",
      "metadata": {
        "id": "0uWFM5M_Lic3",
        "colab_type": "code",
        "outputId": "1c3ab754-a4e1-4e9d-cf28-7eefac0de562",
        "colab": {
          "base_uri": "https://localhost:8080/",
          "height": 207
        }
      },
      "source": [
        "model = MLPClassifier()\n",
        "model.fit(X_train, y_train)\n",
        "print()\n",
        "print(model)"
      ],
      "execution_count": 0,
      "outputs": [
        {
          "output_type": "stream",
          "text": [
            "/usr/local/lib/python3.6/dist-packages/sklearn/neural_network/multilayer_perceptron.py:921: DataConversionWarning: A column-vector y was passed when a 1d array was expected. Please change the shape of y to (n_samples, ), for example using ravel().\n",
            "  y = column_or_1d(y, warn=True)\n"
          ],
          "name": "stderr"
        },
        {
          "output_type": "stream",
          "text": [
            "\n",
            "MLPClassifier(activation='relu', alpha=0.0001, batch_size='auto', beta_1=0.9,\n",
            "              beta_2=0.999, early_stopping=False, epsilon=1e-08,\n",
            "              hidden_layer_sizes=(100,), learning_rate='constant',\n",
            "              learning_rate_init=0.001, max_iter=200, momentum=0.9,\n",
            "              n_iter_no_change=10, nesterovs_momentum=True, power_t=0.5,\n",
            "              random_state=None, shuffle=True, solver='adam', tol=0.0001,\n",
            "              validation_fraction=0.1, verbose=False, warm_start=False)\n"
          ],
          "name": "stdout"
        }
      ]
    },
    {
      "cell_type": "code",
      "metadata": {
        "id": "zVDQJSrWLnHi",
        "colab_type": "code",
        "colab": {}
      },
      "source": [
        "# make predictions\n",
        "expected_y  = y_test\n",
        "predicted_y = model.predict(X_test)"
      ],
      "execution_count": 0,
      "outputs": []
    },
    {
      "cell_type": "code",
      "metadata": {
        "id": "zqwtzwUuL08L",
        "colab_type": "code",
        "outputId": "1c514136-6407-4877-aac8-cac3ff9f4af7",
        "colab": {
          "base_uri": "https://localhost:8080/",
          "height": 1000
        }
      },
      "source": [
        "# summarize the fit of the model\n",
        "print()\n",
        "print(metrics.classification_report(expected_y, predicted_y))\n",
        "print()\n",
        "print(metrics.confusion_matrix(expected_y, predicted_y))"
      ],
      "execution_count": 0,
      "outputs": [
        {
          "output_type": "stream",
          "text": [
            "\n",
            "              precision    recall  f1-score   support\n",
            "\n",
            "         222       0.00      0.00      0.00       1.0\n",
            "         300       0.00      0.00      0.00       1.0\n",
            "         338       0.00      0.00      0.00       1.0\n",
            "         356       0.00      0.00      0.00       1.0\n",
            "         357       0.00      0.00      0.00       1.0\n",
            "         369       0.00      0.00      0.00       1.0\n",
            "         382       0.00      0.00      0.00       1.0\n",
            "         422       0.00      0.00      0.00       1.0\n",
            "         456       0.00      0.00      0.00       1.0\n",
            "         479       0.00      0.00      0.00       1.0\n",
            "         480       0.00      0.00      0.00       1.0\n",
            "         488       0.00      0.00      0.00       1.0\n",
            "         493       0.00      0.00      0.00       1.0\n",
            "         499       0.00      0.00      0.00       1.0\n",
            "         520       0.00      0.00      0.00       1.0\n",
            "         523       0.00      0.00      0.00       1.0\n",
            "         529       0.00      0.00      0.00       0.0\n",
            "         585       0.00      0.00      0.00       1.0\n",
            "         634       0.00      0.00      0.00       1.0\n",
            "         643       0.00      0.00      0.00       1.0\n",
            "         656       0.00      0.00      0.00       1.0\n",
            "         657       0.00      0.00      0.00       1.0\n",
            "         671       0.00      0.00      0.00       1.0\n",
            "         677       0.00      0.00      0.00       1.0\n",
            "         679       0.00      0.00      0.00       1.0\n",
            "         684       0.00      0.00      0.00       1.0\n",
            "         696       0.00      0.00      0.00       1.0\n",
            "         701       0.00      0.00      0.00       1.0\n",
            "         719       0.00      0.00      0.00       1.0\n",
            "         720       0.00      0.00      0.00       1.0\n",
            "         725       0.00      0.00      0.00       1.0\n",
            "         771       0.00      0.00      0.00       1.0\n",
            "         792       0.00      0.00      0.00       1.0\n",
            "         807       0.00      0.00      0.00       1.0\n",
            "         815       0.00      0.00      0.00       1.0\n",
            "         834       0.00      0.00      0.00       1.0\n",
            "         881       0.00      0.00      0.00       1.0\n",
            "         882       0.00      0.00      0.00       1.0\n",
            "         893       0.00      0.00      0.00       1.0\n",
            "         899       0.00      0.00      0.00       1.0\n",
            "         911       0.00      0.00      0.00       1.0\n",
            "         915       0.00      0.00      0.00       1.0\n",
            "         918       0.00      0.00      0.00       1.0\n",
            "         930       0.00      0.00      0.00       1.0\n",
            "         938       0.00      0.00      0.00       1.0\n",
            "         978       0.00      0.00      0.00       1.0\n",
            "         982       0.00      0.00      0.00       1.0\n",
            "        1002       0.00      0.00      0.00       1.0\n",
            "        1010       0.00      0.00      0.00       1.0\n",
            "        1021       0.00      0.00      0.00       1.0\n",
            "        1047       0.00      0.00      0.00       1.0\n",
            "        1049       0.00      0.00      0.00       1.0\n",
            "        1088       0.00      0.00      0.00       1.0\n",
            "        1106       0.00      0.00      0.00       1.0\n",
            "        1146       0.00      0.00      0.00       1.0\n",
            "        1198       0.00      0.00      0.00       1.0\n",
            "        1220       0.00      0.00      0.00       1.0\n",
            "        1228       0.00      0.00      0.00       1.0\n",
            "        1233       0.00      0.00      0.00       1.0\n",
            "        1297       0.00      0.00      0.00       1.0\n",
            "        1314       0.00      0.00      0.00       1.0\n",
            "        1333       0.00      0.00      0.00       1.0\n",
            "        1336       0.00      0.00      0.00       1.0\n",
            "        1349       0.00      0.00      0.00       2.0\n",
            "        1381       0.00      0.00      0.00       1.0\n",
            "        1383       0.00      0.00      0.00       1.0\n",
            "        1398       0.00      0.00      0.00       1.0\n",
            "        1427       0.00      0.00      0.00       1.0\n",
            "        1429       0.00      0.00      0.00       1.0\n",
            "        1433       0.00      0.00      0.00       1.0\n",
            "        1462       0.00      0.00      0.00       1.0\n",
            "        1469       0.00      0.00      0.00       1.0\n",
            "        1480       0.00      0.00      0.00       2.0\n",
            "        1500       0.00      0.00      0.00       1.0\n",
            "        1520       0.00      0.00      0.00       1.0\n",
            "        1524       0.00      0.00      0.00       0.0\n",
            "        1555       0.00      0.00      0.00       1.0\n",
            "        1558       0.00      0.00      0.00       1.0\n",
            "        1601       0.00      0.00      0.00       0.0\n",
            "        1622       0.00      0.00      0.00       0.0\n",
            "        1630       0.00      0.00      0.00       1.0\n",
            "        1665       0.00      0.00      0.00       1.0\n",
            "        1751       0.00      0.00      0.00       1.0\n",
            "        1766       0.00      0.00      0.00       1.0\n",
            "        1777       0.00      0.00      0.00       1.0\n",
            "        1803       0.00      0.00      0.00       1.0\n",
            "        1855       0.00      0.00      0.00       1.0\n",
            "        1857       0.00      0.00      0.00       1.0\n",
            "        1868       0.00      0.00      0.00       1.0\n",
            "        1889       0.00      0.00      0.00       1.0\n",
            "        1903       0.00      0.00      0.00       1.0\n",
            "        1911       0.00      0.00      0.00       1.0\n",
            "        1922       0.00      0.00      0.00       1.0\n",
            "        1982       0.00      0.00      0.00       1.0\n",
            "        2035       0.00      0.00      0.00       1.0\n",
            "        2077       0.00      0.00      0.00       1.0\n",
            "        2097       0.00      0.00      0.00       1.0\n",
            "        2101       0.00      0.00      0.00       1.0\n",
            "        2123       0.00      0.00      0.00       1.0\n",
            "        2128       0.00      0.00      0.00       1.0\n",
            "        2146       0.00      0.00      0.00       1.0\n",
            "        2164       0.00      0.00      0.00       1.0\n",
            "        2252       0.00      0.00      0.00       1.0\n",
            "        2267       0.00      0.00      0.00       1.0\n",
            "        2305       0.00      0.00      0.00       1.0\n",
            "        2353       0.00      0.00      0.00       1.0\n",
            "        2357       0.00      0.00      0.00       1.0\n",
            "        2432       0.00      0.00      0.00       1.0\n",
            "        2438       0.00      0.00      0.00       1.0\n",
            "        2522       0.00      0.00      0.00       1.0\n",
            "        2725       0.00      0.00      0.00       1.0\n",
            "        2742       0.00      0.00      0.00       1.0\n",
            "        2787       0.00      0.00      0.00       1.0\n",
            "        2884       0.00      0.00      0.00       1.0\n",
            "        2893       0.00      0.00      0.00       1.0\n",
            "        2911       0.00      0.00      0.00       1.0\n",
            "        2922       0.00      0.00      0.00       1.0\n",
            "        3011       0.00      0.00      0.00       1.0\n",
            "        3018       0.00      0.00      0.00       1.0\n",
            "        3031       0.00      0.00      0.00       1.0\n",
            "        3038       0.00      0.00      0.00       1.0\n",
            "        3060       0.00      0.00      0.00       1.0\n",
            "        3221       0.00      0.00      0.00       1.0\n",
            "        3329       0.00      0.00      0.00       1.0\n",
            "        3342       0.00      0.00      0.00       1.0\n",
            "        3363       0.00      0.00      0.00       1.0\n",
            "        3370       0.00      0.00      0.00       1.0\n",
            "        3381       0.00      0.00      0.00       1.0\n",
            "        3429       0.00      0.00      0.00       1.0\n",
            "        3537       0.00      0.00      0.00       1.0\n",
            "        3590       0.00      0.00      0.00       1.0\n",
            "        3604       0.00      0.00      0.00       1.0\n",
            "        3647       0.00      0.00      0.00       1.0\n",
            "        3825       0.00      0.00      0.00       1.0\n",
            "        3884       0.00      0.00      0.00       1.0\n",
            "        4026       0.00      0.00      0.00       1.0\n",
            "        4046       0.00      0.00      0.00       1.0\n",
            "        4176       0.00      0.00      0.00       1.0\n",
            "        4360       0.00      0.00      0.00       1.0\n",
            "        4572       0.00      0.00      0.00       1.0\n",
            "        4613       0.00      0.00      0.00       1.0\n",
            "        4688       0.00      0.00      0.00       1.0\n",
            "        4843       0.00      0.00      0.00       1.0\n",
            "        4904       0.00      0.00      0.00       1.0\n",
            "        4916       0.00      0.00      0.00       1.0\n",
            "        5007       0.00      0.00      0.00       1.0\n",
            "        5013       0.00      0.00      0.00       1.0\n",
            "        5155       0.00      0.00      0.00       1.0\n",
            "        5240       0.00      0.00      0.00       1.0\n",
            "        5384       0.00      0.00      0.00       1.0\n",
            "        5426       0.00      0.00      0.00       1.0\n",
            "        5492       0.00      0.00      0.00       1.0\n",
            "        5634       0.00      0.00      0.00       1.0\n",
            "        5715       0.00      0.00      0.00       1.0\n",
            "        5775       0.00      0.00      0.00       1.0\n",
            "        5903       0.00      0.00      0.00       1.0\n",
            "        5910       0.00      0.00      0.00       1.0\n",
            "        6040       0.00      0.00      0.00       1.0\n",
            "        6139       0.00      0.00      0.00       1.0\n",
            "        6302       0.00      0.00      0.00       1.0\n",
            "        6387       0.00      0.00      0.00       1.0\n",
            "        6553       0.00      0.00      0.00       1.0\n",
            "        6659       0.00      0.00      0.00       1.0\n",
            "        6662       0.00      0.00      0.00       1.0\n",
            "        6883       0.00      0.00      0.00       1.0\n",
            "        7265       0.00      0.00      0.00       1.0\n",
            "        7333       0.00      0.00      0.00       1.0\n",
            "        7452       0.00      0.00      0.00       1.0\n",
            "        7580       0.00      0.00      0.00       1.0\n",
            "        7630       0.00      0.00      0.00       1.0\n",
            "        7727       0.00      0.00      0.00       1.0\n",
            "        7808       0.00      0.00      0.00       1.0\n",
            "        7872       0.00      0.00      0.00       1.0\n",
            "        8095       0.00      0.00      0.00       1.0\n",
            "        8162       0.00      0.00      0.00       1.0\n",
            "        8423       0.00      0.00      0.00       1.0\n",
            "        8457       0.00      0.00      0.00       1.0\n",
            "        8472       0.00      0.00      0.00       1.0\n",
            "        8665       0.00      0.00      0.00       1.0\n",
            "        8722       0.00      0.00      0.00       1.0\n",
            "        9126       0.00      0.00      0.00       1.0\n",
            "        9660       0.00      0.00      0.00       1.0\n",
            "       10258       0.00      0.00      0.00       1.0\n",
            "       10686       0.00      0.00      0.00       1.0\n",
            "       10723       0.00      0.00      0.00       1.0\n",
            "       11272       0.00      0.00      0.00       1.0\n",
            "       11564       0.00      0.00      0.00       1.0\n",
            "       12207       0.00      0.00      0.00       1.0\n",
            "       12712       0.00      0.00      0.00       1.0\n",
            "       12762       0.00      0.00      0.00       1.0\n",
            "       13374       0.00      0.00      0.00       1.0\n",
            "       13766       0.00      0.00      0.00       1.0\n",
            "       13925       0.00      0.00      0.00       1.0\n",
            "       15182       0.00      0.00      0.00       1.0\n",
            "       15512       0.00      0.00      0.00       1.0\n",
            "       15541       0.00      0.00      0.00       1.0\n",
            "       15784       0.00      0.00      0.00       1.0\n",
            "       15833       0.00      0.00      0.00       1.0\n",
            "       16066       0.00      0.00      0.00       1.0\n",
            "       16985       0.00      0.00      0.00       1.0\n",
            "       19183       0.00      0.00      0.00       1.0\n",
            "       19657       0.00      0.00      0.00       1.0\n",
            "       19719       0.00      0.00      0.00       1.0\n",
            "       19868       0.00      0.00      0.00       1.0\n",
            "       19920       0.00      0.00      0.00       0.0\n",
            "       20690       0.00      0.00      0.00       1.0\n",
            "       21174       0.00      0.00      0.00       1.0\n",
            "       21366       0.00      0.00      0.00       1.0\n",
            "       21481       0.00      0.00      0.00       1.0\n",
            "       22289       0.00      0.00      0.00       1.0\n",
            "       22515       0.00      0.00      0.00       1.0\n",
            "       22964       0.00      0.00      0.00       1.0\n",
            "       23498       0.00      0.00      0.00       1.0\n",
            "       24708       0.00      0.00      0.00       1.0\n",
            "       25285       0.00      0.00      0.00       1.0\n",
            "       26276       0.00      0.00      0.00       1.0\n",
            "       27694       0.00      0.00      0.00       1.0\n",
            "       28301       0.00      0.00      0.00       1.0\n",
            "       30489       0.00      0.00      0.00       1.0\n",
            "       31381       0.00      0.00      0.00       1.0\n",
            "       31924       0.00      0.00      0.00       1.0\n",
            "       32879       0.00      0.00      0.00       1.0\n",
            "       33131       0.00      0.00      0.00       1.0\n",
            "       33795       0.00      0.00      0.00       1.0\n",
            "       34360       0.00      0.00      0.00       1.0\n",
            "       39271       0.00      0.00      0.00       1.0\n",
            "       40116       0.00      0.00      0.00       1.0\n",
            "\n",
            "    accuracy                           0.00     224.0\n",
            "   macro avg       0.00      0.00      0.00     224.0\n",
            "weighted avg       0.00      0.00      0.00     224.0\n",
            "\n",
            "\n",
            "[[0 0 0 ... 0 0 0]\n",
            " [0 0 0 ... 0 0 0]\n",
            " [0 0 0 ... 0 0 0]\n",
            " ...\n",
            " [0 0 0 ... 0 0 0]\n",
            " [0 0 0 ... 0 0 0]\n",
            " [0 0 0 ... 0 0 0]]\n"
          ],
          "name": "stdout"
        },
        {
          "output_type": "stream",
          "text": [
            "/usr/local/lib/python3.6/dist-packages/sklearn/metrics/classification.py:1437: UndefinedMetricWarning: Precision and F-score are ill-defined and being set to 0.0 in labels with no predicted samples.\n",
            "  'precision', 'predicted', average, warn_for)\n",
            "/usr/local/lib/python3.6/dist-packages/sklearn/metrics/classification.py:1439: UndefinedMetricWarning: Recall and F-score are ill-defined and being set to 0.0 in labels with no true samples.\n",
            "  'recall', 'true', average, warn_for)\n"
          ],
          "name": "stderr"
        }
      ]
    },
    {
      "cell_type": "code",
      "metadata": {
        "id": "wlBcW9DZL6GC",
        "colab_type": "code",
        "outputId": "a6f69d01-f0db-4c7c-c1d4-15fe1c02409a",
        "colab": {
          "base_uri": "https://localhost:8080/",
          "height": 609
        }
      },
      "source": [
        "plt.figure(figsize=(10,10))    \n",
        "sns.regplot(expected_y, predicted_y, fit_reg=True, scatter_kws={\"s\": 100})"
      ],
      "execution_count": 0,
      "outputs": [
        {
          "output_type": "execute_result",
          "data": {
            "text/plain": [
              "<matplotlib.axes._subplots.AxesSubplot at 0x7fd0d918de10>"
            ]
          },
          "metadata": {
            "tags": []
          },
          "execution_count": 67
        },
        {
          "output_type": "display_data",
          "data": {
            "image/png": "[encoded data removed]",
            "text/plain": [
              "<Figure size 720x720 with 1 Axes>"
            ]
          },
          "metadata": {
            "tags": []
          }
        }
      ]
    },
    {
      "cell_type": "markdown",
      "metadata": {
        "id": "uCyXF2m-NXUg",
        "colab_type": "text"
      },
      "source": [
        "**MLP regressor**"
      ]
    },
    {
      "cell_type": "code",
      "metadata": {
        "id": "cMiSKwn_MD3v",
        "colab_type": "code",
        "outputId": "d7900c10-9529-44ea-b1d4-214af32802d6",
        "colab": {
          "base_uri": "https://localhost:8080/",
          "height": 370
        }
      },
      "source": [
        "from sklearn.neural_network import MLPRegressor\n",
        "from sklearn.metrics import mean_squared_error, r2_score\n",
        "\n",
        "mlp = MLPRegressor(random_state=0, activation='relu', hidden_layer_sizes=16)\n",
        "\n",
        "#mlp = MLPRegressor(random_state=0, activation='tanh', hidden_layer_sizes=(16,8))\n",
        "\n",
        "mlp.fit(X_train, y_train)\n",
        "\n",
        "Y_guess = mlp.predict(X_test)\n",
        "\n",
        "plt.plot(X_test[:,0], y_test, '.')\n",
        "plt.plot(X_test[:,0], Y_guess, 'r.')\n",
        "\n",
        "mean_squared_error(y_test, Y_guess), r2_score(y_test, Y_guess)"
      ],
      "execution_count": 0,
      "outputs": [
        {
          "output_type": "stream",
          "text": [
            "/usr/local/lib/python3.6/dist-packages/sklearn/neural_network/multilayer_perceptron.py:1321: DataConversionWarning: A column-vector y was passed when a 1d array was expected. Please change the shape of y to (n_samples, ), for example using ravel().\n",
            "  y = column_or_1d(y, warn=True)\n",
            "/usr/local/lib/python3.6/dist-packages/sklearn/neural_network/multilayer_perceptron.py:566: ConvergenceWarning: Stochastic Optimizer: Maximum iterations (200) reached and the optimization hasn't converged yet.\n",
            "  % self.max_iter, ConvergenceWarning)\n"
          ],
          "name": "stderr"
        },
        {
          "output_type": "execute_result",
          "data": {
            "text/plain": [
              "(76029956.00505468, -0.06608569453932867)"
            ]
          },
          "metadata": {
            "tags": []
          },
          "execution_count": 68
        },
        {
          "output_type": "display_data",
          "data": {
            "image/png": "[encoded data removed]",
            "text/plain": [
              "<Figure size 432x288 with 1 Axes>"
            ]
          },
          "metadata": {
            "tags": []
          }
        }
      ]
    },
    {
      "cell_type": "markdown",
      "metadata": {
        "id": "yWCe9sv7SlbU",
        "colab_type": "text"
      },
      "source": [
        "**Deep learning nonlinear regression**"
      ]
    },
    {
      "cell_type": "code",
      "metadata": {
        "id": "U-2_rsHfOCzg",
        "colab_type": "code",
        "outputId": "71887025-79c8-461b-ca87-865bba149118",
        "colab": {
          "base_uri": "https://localhost:8080/",
          "height": 1000
        }
      },
      "source": [
        "from sklearn import preprocessing\n",
        "from keras.layers import Dense\n",
        "from keras.layers import Dropout\n",
        "from keras.layers import Activation\n",
        "from keras.models import Sequential\n",
        "\n",
        "model = Sequential()\n",
        "\n",
        "# Input : 1d, hidden layer i with 128 neurons \n",
        "model.add(Dense(128, input_dim=1, activation='relu'))\n",
        "# Dropout of 20% \n",
        "model.add(Dropout(.2))\n",
        "model.add(Activation(\"linear\"))\n",
        "\n",
        "model.add(Dense(64, activation='relu'))\n",
        "model.add(Activation(\"linear\"))\n",
        "# Hidden layer k with 64 neurons.\n",
        "model.add(Dense(64, activation='relu'))\n",
        "\n",
        "model.add(Dense(1))\n",
        "\n",
        "model.compile(loss='mse', optimizer='adam', metrics=[\"accuracy\"])\n",
        "\n",
        "np.random.seed(3)\n",
        "model.fit(X_train, y_train, nb_epoch=256, batch_size=2, verbose=2)"
      ],
      "execution_count": 0,
      "outputs": [
        {
          "output_type": "stream",
          "text": [
            "WARNING:tensorflow:From /usr/local/lib/python3.6/dist-packages/keras/backend/tensorflow_backend.py:148: The name tf.placeholder_with_default is deprecated. Please use tf.compat.v1.placeholder_with_default instead.\n",
            "\n",
            "WARNING:tensorflow:From /usr/local/lib/python3.6/dist-packages/keras/backend/tensorflow_backend.py:3733: calling dropout (from tensorflow.python.ops.nn_ops) with keep_prob is deprecated and will be removed in a future version.\n",
            "Instructions for updating:\n",
            "Please use `rate` instead of `keep_prob`. Rate should be set to `rate = 1 - keep_prob`.\n"
          ],
          "name": "stdout"
        },
        {
          "output_type": "stream",
          "text": [
            "/usr/local/lib/python3.6/dist-packages/ipykernel_launcher.py:33: UserWarning: The `nb_epoch` argument in `fit` has been renamed `epochs`.\n"
          ],
          "name": "stderr"
        },
        {
          "output_type": "stream",
          "text": [
            "Epoch 1/256\n",
            " - 2s - loss: 83055926.8776 - acc: 0.0000e+00\n",
            "Epoch 2/256\n",
            " - 2s - loss: 79775651.5790 - acc: 0.0000e+00\n",
            "Epoch 3/256\n",
            " - 2s - loss: 80141087.3528 - acc: 0.0000e+00\n",
            "Epoch 4/256\n",
            " - 2s - loss: 79015751.0900 - acc: 0.0000e+00\n",
            "Epoch 5/256\n",
            " - 2s - loss: 80152401.3958 - acc: 0.0022\n",
            "Epoch 6/256\n",
            " - 2s - loss: 79926900.2072 - acc: 0.0000e+00\n",
            "Epoch 7/256\n",
            " - 2s - loss: 79465176.4096 - acc: 0.0000e+00\n",
            "Epoch 8/256\n",
            " - 2s - loss: 80188664.0785 - acc: 0.0000e+00\n",
            "Epoch 9/256\n",
            " - 2s - loss: 79924815.3174 - acc: 0.0011\n",
            "Epoch 10/256\n",
            " - 2s - loss: 79936332.3886 - acc: 0.0000e+00\n",
            "Epoch 11/256\n",
            " - 2s - loss: 79799647.5810 - acc: 0.0000e+00\n",
            "Epoch 12/256\n",
            " - 2s - loss: 79379200.2975 - acc: 0.0000e+00\n",
            "Epoch 13/256\n",
            " - 2s - loss: 80330442.6369 - acc: 0.0000e+00\n",
            "Epoch 14/256\n",
            " - 2s - loss: 79493481.8010 - acc: 0.0000e+00\n",
            "Epoch 15/256\n",
            " - 2s - loss: 79110886.9601 - acc: 0.0000e+00\n",
            "Epoch 16/256\n",
            " - 2s - loss: 79697166.8663 - acc: 0.0000e+00\n",
            "Epoch 17/256\n",
            " - 2s - loss: 79694573.4425 - acc: 0.0000e+00\n",
            "Epoch 18/256\n",
            " - 2s - loss: 79392371.6729 - acc: 0.0000e+00\n",
            "Epoch 19/256\n",
            " - 2s - loss: 79052349.9465 - acc: 0.0000e+00\n",
            "Epoch 20/256\n",
            " - 2s - loss: 79630810.9237 - acc: 0.0000e+00\n",
            "Epoch 21/256\n",
            " - 2s - loss: 78685541.5729 - acc: 0.0000e+00\n",
            "Epoch 22/256\n",
            " - 2s - loss: 79213443.6036 - acc: 0.0000e+00\n",
            "Epoch 23/256\n",
            " - 2s - loss: 79073740.4486 - acc: 0.0000e+00\n",
            "Epoch 24/256\n",
            " - 2s - loss: 78664094.5754 - acc: 0.0000e+00\n",
            "Epoch 25/256\n",
            " - 2s - loss: 79299719.5126 - acc: 0.0000e+00\n",
            "Epoch 26/256\n",
            " - 2s - loss: 79181514.5909 - acc: 0.0000e+00\n",
            "Epoch 27/256\n",
            " - 2s - loss: 79960318.9502 - acc: 0.0000e+00\n",
            "Epoch 28/256\n",
            " - 2s - loss: 78789676.3752 - acc: 0.0000e+00\n",
            "Epoch 29/256\n",
            " - 2s - loss: 78867200.0257 - acc: 0.0000e+00\n",
            "Epoch 30/256\n",
            " - 2s - loss: 78887530.9678 - acc: 0.0000e+00\n",
            "Epoch 31/256\n",
            " - 2s - loss: 79818613.4741 - acc: 0.0000e+00\n",
            "Epoch 32/256\n",
            " - 2s - loss: 78812994.1383 - acc: 0.0000e+00\n",
            "Epoch 33/256\n",
            " - 2s - loss: 79262299.2879 - acc: 0.0000e+00\n",
            "Epoch 34/256\n",
            " - 2s - loss: 79118648.9058 - acc: 0.0000e+00\n",
            "Epoch 35/256\n",
            " - 2s - loss: 78793956.4775 - acc: 0.0000e+00\n",
            "Epoch 36/256\n",
            " - 2s - loss: 79211629.8400 - acc: 0.0000e+00\n",
            "Epoch 37/256\n",
            " - 2s - loss: 78028732.6369 - acc: 0.0000e+00\n",
            "Epoch 38/256\n",
            " - 2s - loss: 78680974.2684 - acc: 0.0011\n",
            "Epoch 39/256\n",
            " - 2s - loss: 78832575.8863 - acc: 0.0000e+00\n",
            "Epoch 40/256\n",
            " - 2s - loss: 78970834.7895 - acc: 0.0000e+00\n",
            "Epoch 41/256\n",
            " - 2s - loss: 78926798.2150 - acc: 0.0011\n",
            "Epoch 42/256\n",
            " - 2s - loss: 78572801.7747 - acc: 0.0000e+00\n",
            "Epoch 43/256\n",
            " - 2s - loss: 78731679.0230 - acc: 0.0000e+00\n",
            "Epoch 44/256\n",
            " - 2s - loss: 78525473.5926 - acc: 0.0000e+00\n",
            "Epoch 45/256\n",
            " - 2s - loss: 78712588.2698 - acc: 0.0000e+00\n",
            "Epoch 46/256\n",
            " - 2s - loss: 78789217.3698 - acc: 0.0000e+00\n",
            "Epoch 47/256\n",
            " - 2s - loss: 78415623.4491 - acc: 0.0000e+00\n",
            "Epoch 48/256\n",
            " - 2s - loss: 78760356.8622 - acc: 0.0011\n",
            "Epoch 49/256\n",
            " - 2s - loss: 78616257.4001 - acc: 0.0000e+00\n",
            "Epoch 50/256\n",
            " - 2s - loss: 77946142.1395 - acc: 0.0000e+00\n",
            "Epoch 51/256\n",
            " - 2s - loss: 77855745.8018 - acc: 0.0000e+00\n",
            "Epoch 52/256\n",
            " - 2s - loss: 78375675.4350 - acc: 0.0000e+00\n",
            "Epoch 53/256\n",
            " - 2s - loss: 78038369.7319 - acc: 0.0000e+00\n",
            "Epoch 54/256\n",
            " - 2s - loss: 78150702.6215 - acc: 0.0000e+00\n",
            "Epoch 55/256\n",
            " - 2s - loss: 77558732.0230 - acc: 0.0000e+00\n",
            "Epoch 56/256\n",
            " - 2s - loss: 77133669.9502 - acc: 0.0000e+00\n",
            "Epoch 57/256\n",
            " - 2s - loss: 77684705.3172 - acc: 0.0000e+00\n",
            "Epoch 58/256\n",
            " - 2s - loss: 77009734.5900 - acc: 0.0000e+00\n",
            "Epoch 59/256\n",
            " - 2s - loss: 77360928.7470 - acc: 0.0000e+00\n",
            "Epoch 60/256\n",
            " - 2s - loss: 76921371.6455 - acc: 0.0000e+00\n",
            "Epoch 61/256\n",
            " - 2s - loss: 76482729.9103 - acc: 0.0000e+00\n",
            "Epoch 62/256\n",
            " - 2s - loss: 75953384.5890 - acc: 0.0000e+00\n",
            "Epoch 63/256\n",
            " - 2s - loss: 76366072.3960 - acc: 0.0000e+00\n",
            "Epoch 64/256\n",
            " - 2s - loss: 75583853.9362 - acc: 0.0000e+00\n",
            "Epoch 65/256\n",
            " - 2s - loss: 75904114.4993 - acc: 0.0000e+00\n",
            "Epoch 66/256\n",
            " - 2s - loss: 75364605.9474 - acc: 0.0000e+00\n",
            "Epoch 67/256\n",
            " - 2s - loss: 75116465.4207 - acc: 0.0000e+00\n",
            "Epoch 68/256\n",
            " - 2s - loss: 75428580.9413 - acc: 0.0000e+00\n",
            "Epoch 69/256\n",
            " - 2s - loss: 75429352.1954 - acc: 0.0000e+00\n",
            "Epoch 70/256\n",
            " - 2s - loss: 74335347.2829 - acc: 0.0000e+00\n",
            "Epoch 71/256\n",
            " - 2s - loss: 74460019.5710 - acc: 0.0000e+00\n",
            "Epoch 72/256\n",
            " - 2s - loss: 75360161.9518 - acc: 0.0000e+00\n",
            "Epoch 73/256\n",
            " - 2s - loss: 75135394.0970 - acc: 0.0000e+00\n",
            "Epoch 74/256\n",
            " - 2s - loss: 74254200.1955 - acc: 0.0000e+00\n",
            "Epoch 75/256\n",
            " - 2s - loss: 74076124.6379 - acc: 0.0000e+00\n",
            "Epoch 76/256\n",
            " - 2s - loss: 75667472.1962 - acc: 0.0000e+00\n",
            "Epoch 77/256\n",
            " - 2s - loss: 74391697.1057 - acc: 0.0000e+00\n",
            "Epoch 78/256\n",
            " - 2s - loss: 74682477.1849 - acc: 0.0000e+00\n",
            "Epoch 79/256\n",
            " - 2s - loss: 73866366.8787 - acc: 0.0000e+00\n",
            "Epoch 80/256\n",
            " - 2s - loss: 74274955.6618 - acc: 0.0000e+00\n",
            "Epoch 81/256\n",
            " - 2s - loss: 74081033.3967 - acc: 0.0000e+00\n",
            "Epoch 82/256\n",
            " - 2s - loss: 74271813.1152 - acc: 0.0000e+00\n",
            "Epoch 83/256\n",
            " - 2s - loss: 75152508.1959 - acc: 0.0000e+00\n",
            "Epoch 84/256\n",
            " - 2s - loss: 74334036.6669 - acc: 0.0000e+00\n",
            "Epoch 85/256\n",
            " - 2s - loss: 72785781.3154 - acc: 0.0000e+00\n",
            "Epoch 86/256\n",
            " - 2s - loss: 74440001.2381 - acc: 0.0000e+00\n",
            "Epoch 87/256\n",
            " - 2s - loss: 74293657.2975 - acc: 0.0000e+00\n",
            "Epoch 88/256\n",
            " - 2s - loss: 74326540.6169 - acc: 0.0000e+00\n",
            "Epoch 89/256\n",
            " - 2s - loss: 74356612.8264 - acc: 0.0000e+00\n",
            "Epoch 90/256\n",
            " - 2s - loss: 73773406.3741 - acc: 0.0000e+00\n",
            "Epoch 91/256\n",
            " - 2s - loss: 74693332.0068 - acc: 0.0000e+00\n",
            "Epoch 92/256\n",
            " - 2s - loss: 73710900.1788 - acc: 0.0000e+00\n",
            "Epoch 93/256\n",
            " - 2s - loss: 74607266.2072 - acc: 0.0000e+00\n",
            "Epoch 94/256\n",
            " - 2s - loss: 73226671.8939 - acc: 0.0000e+00\n",
            "Epoch 95/256\n",
            " - 2s - loss: 72905908.3717 - acc: 0.0000e+00\n",
            "Epoch 96/256\n",
            " - 2s - loss: 74139245.6785 - acc: 0.0000e+00\n",
            "Epoch 97/256\n",
            " - 2s - loss: 73271251.8484 - acc: 0.0000e+00\n",
            "Epoch 98/256\n",
            " - 2s - loss: 73922061.3715 - acc: 0.0000e+00\n",
            "Epoch 99/256\n",
            " - 2s - loss: 74012433.8133 - acc: 0.0000e+00\n",
            "Epoch 100/256\n",
            " - 2s - loss: 73503611.0179 - acc: 0.0000e+00\n",
            "Epoch 101/256\n",
            " - 2s - loss: 73447609.6841 - acc: 0.0000e+00\n",
            "Epoch 102/256\n",
            " - 2s - loss: 73517487.1374 - acc: 0.0000e+00\n",
            "Epoch 103/256\n",
            " - 2s - loss: 74367528.6423 - acc: 0.0000e+00\n",
            "Epoch 104/256\n",
            " - 2s - loss: 73158759.1262 - acc: 0.0000e+00\n",
            "Epoch 105/256\n",
            " - 2s - loss: 74598487.0803 - acc: 0.0000e+00\n",
            "Epoch 106/256\n",
            " - 2s - loss: 73952169.1423 - acc: 0.0000e+00\n",
            "Epoch 107/256\n",
            " - 2s - loss: 73785099.7194 - acc: 0.0000e+00\n",
            "Epoch 108/256\n",
            " - 2s - loss: 74539507.3424 - acc: 0.0000e+00\n",
            "Epoch 109/256\n",
            " - 2s - loss: 75504674.0667 - acc: 0.0000e+00\n",
            "Epoch 110/256\n",
            " - 2s - loss: 73636652.8906 - acc: 0.0000e+00\n",
            "Epoch 111/256\n",
            " - 2s - loss: 74783013.5684 - acc: 0.0011\n",
            "Epoch 112/256\n",
            " - 2s - loss: 73456249.5284 - acc: 0.0000e+00\n",
            "Epoch 113/256\n",
            " - 2s - loss: 73375712.1399 - acc: 0.0000e+00\n",
            "Epoch 114/256\n",
            " - 2s - loss: 74327305.5887 - acc: 0.0000e+00\n",
            "Epoch 115/256\n",
            " - 2s - loss: 73933312.3897 - acc: 0.0000e+00\n",
            "Epoch 116/256\n",
            " - 2s - loss: 74194173.8631 - acc: 0.0000e+00\n",
            "Epoch 117/256\n",
            " - 2s - loss: 74197835.0839 - acc: 0.0000e+00\n",
            "Epoch 118/256\n",
            " - 2s - loss: 74976115.0826 - acc: 0.0000e+00\n",
            "Epoch 119/256\n",
            " - 2s - loss: 73407957.2559 - acc: 0.0000e+00\n",
            "Epoch 120/256\n",
            " - 2s - loss: 72762581.3442 - acc: 0.0000e+00\n",
            "Epoch 121/256\n",
            " - 2s - loss: 74147515.3166 - acc: 0.0000e+00\n",
            "Epoch 122/256\n",
            " - 2s - loss: 73102865.5370 - acc: 0.0000e+00\n",
            "Epoch 123/256\n",
            " - 2s - loss: 74233329.9248 - acc: 0.0000e+00\n",
            "Epoch 124/256\n",
            " - 2s - loss: 73577781.9928 - acc: 0.0000e+00\n",
            "Epoch 125/256\n",
            " - 2s - loss: 73155881.5811 - acc: 0.0000e+00\n",
            "Epoch 126/256\n",
            " - 2s - loss: 73460542.6462 - acc: 0.0011\n",
            "Epoch 127/256\n",
            " - 2s - loss: 74579882.3961 - acc: 0.0000e+00\n",
            "Epoch 128/256\n",
            " - 2s - loss: 74157829.1668 - acc: 0.0000e+00\n",
            "Epoch 129/256\n",
            " - 2s - loss: 74197537.7109 - acc: 0.0011\n",
            "Epoch 130/256\n",
            " - 2s - loss: 73186129.5064 - acc: 0.0000e+00\n",
            "Epoch 131/256\n",
            " - 2s - loss: 73926235.2557 - acc: 0.0000e+00\n",
            "Epoch 132/256\n",
            " - 2s - loss: 72620408.6818 - acc: 0.0000e+00\n",
            "Epoch 133/256\n",
            " - 2s - loss: 73665244.1545 - acc: 0.0011\n",
            "Epoch 134/256\n",
            " - 2s - loss: 73430359.4013 - acc: 0.0000e+00\n",
            "Epoch 135/256\n",
            " - 2s - loss: 73563304.2538 - acc: 0.0000e+00\n",
            "Epoch 136/256\n",
            " - 2s - loss: 73376872.2741 - acc: 0.0000e+00\n",
            "Epoch 137/256\n",
            " - 2s - loss: 74037831.9978 - acc: 0.0000e+00\n",
            "Epoch 138/256\n",
            " - 2s - loss: 74073974.3861 - acc: 0.0000e+00\n",
            "Epoch 139/256\n",
            " - 2s - loss: 73602279.4858 - acc: 0.0000e+00\n",
            "Epoch 140/256\n",
            " - 2s - loss: 73152887.0729 - acc: 0.0000e+00\n",
            "Epoch 141/256\n",
            " - 2s - loss: 74117981.6227 - acc: 0.0000e+00\n",
            "Epoch 142/256\n",
            " - 2s - loss: 73872930.6595 - acc: 0.0000e+00\n",
            "Epoch 143/256\n",
            " - 2s - loss: 73100325.7439 - acc: 0.0011\n",
            "Epoch 144/256\n",
            " - 2s - loss: 73600005.6275 - acc: 0.0000e+00\n",
            "Epoch 145/256\n",
            " - 2s - loss: 72828198.7402 - acc: 0.0000e+00\n",
            "Epoch 146/256\n",
            " - 2s - loss: 72922887.0047 - acc: 0.0000e+00\n",
            "Epoch 147/256\n",
            " - 2s - loss: 73971461.8681 - acc: 0.0000e+00\n",
            "Epoch 148/256\n",
            " - 2s - loss: 74353677.6522 - acc: 0.0000e+00\n",
            "Epoch 149/256\n",
            " - 2s - loss: 73465546.2546 - acc: 0.0000e+00\n",
            "Epoch 150/256\n",
            " - 2s - loss: 73578722.6147 - acc: 0.0000e+00\n",
            "Epoch 151/256\n",
            " - 2s - loss: 73245415.0557 - acc: 0.0000e+00\n",
            "Epoch 152/256\n",
            " - 2s - loss: 73836500.6279 - acc: 0.0000e+00\n",
            "Epoch 153/256\n",
            " - 2s - loss: 73650603.7533 - acc: 0.0000e+00\n",
            "Epoch 154/256\n",
            " - 2s - loss: 73905601.4633 - acc: 0.0000e+00\n",
            "Epoch 155/256\n",
            " - 2s - loss: 73422047.3646 - acc: 0.0000e+00\n",
            "Epoch 156/256\n",
            " - 2s - loss: 73788956.9785 - acc: 0.0000e+00\n",
            "Epoch 157/256\n",
            " - 2s - loss: 73841130.7724 - acc: 0.0000e+00\n",
            "Epoch 158/256\n",
            " - 2s - loss: 73449138.7194 - acc: 0.0000e+00\n",
            "Epoch 159/256\n",
            " - 2s - loss: 73254853.2141 - acc: 0.0000e+00\n",
            "Epoch 160/256\n",
            " - 2s - loss: 72706767.8198 - acc: 0.0000e+00\n",
            "Epoch 161/256\n",
            " - 2s - loss: 73500297.3237 - acc: 0.0000e+00\n",
            "Epoch 162/256\n",
            " - 2s - loss: 73729839.2290 - acc: 0.0000e+00\n",
            "Epoch 163/256\n",
            " - 2s - loss: 73681118.4378 - acc: 0.0000e+00\n",
            "Epoch 164/256\n",
            " - 2s - loss: 74125428.6026 - acc: 0.0000e+00\n",
            "Epoch 165/256\n",
            " - 2s - loss: 73839037.3075 - acc: 0.0000e+00\n",
            "Epoch 166/256\n",
            " - 2s - loss: 73673005.3257 - acc: 0.0000e+00\n",
            "Epoch 167/256\n",
            " - 2s - loss: 73453684.5657 - acc: 0.0000e+00\n",
            "Epoch 168/256\n",
            " - 2s - loss: 74300049.4163 - acc: 0.0000e+00\n",
            "Epoch 169/256\n",
            " - 2s - loss: 73004778.2629 - acc: 0.0000e+00\n",
            "Epoch 170/256\n",
            " - 2s - loss: 74089836.2213 - acc: 0.0000e+00\n",
            "Epoch 171/256\n",
            " - 2s - loss: 73816833.8502 - acc: 0.0000e+00\n",
            "Epoch 172/256\n",
            " - 2s - loss: 73748037.0592 - acc: 0.0000e+00\n",
            "Epoch 173/256\n",
            " - 2s - loss: 73775302.6718 - acc: 0.0000e+00\n",
            "Epoch 174/256\n",
            " - 2s - loss: 73798161.6819 - acc: 0.0000e+00\n",
            "Epoch 175/256\n",
            " - 2s - loss: 74155454.0856 - acc: 0.0000e+00\n",
            "Epoch 176/256\n",
            " - 2s - loss: 73644025.4250 - acc: 0.0000e+00\n",
            "Epoch 177/256\n",
            " - 2s - loss: 74396226.2632 - acc: 0.0000e+00\n",
            "Epoch 178/256\n",
            " - 2s - loss: 73083405.3446 - acc: 0.0000e+00\n",
            "Epoch 179/256\n",
            " - 2s - loss: 73502688.8382 - acc: 0.0000e+00\n",
            "Epoch 180/256\n",
            " - 2s - loss: 73238993.8828 - acc: 0.0000e+00\n",
            "Epoch 181/256\n",
            " - 2s - loss: 73860321.9208 - acc: 0.0000e+00\n",
            "Epoch 182/256\n",
            " - 2s - loss: 73505591.5820 - acc: 0.0000e+00\n",
            "Epoch 183/256\n",
            " - 2s - loss: 73103285.7001 - acc: 0.0000e+00\n",
            "Epoch 184/256\n",
            " - 2s - loss: 74836639.9744 - acc: 0.0000e+00\n",
            "Epoch 185/256\n",
            " - 2s - loss: 72955878.1331 - acc: 0.0011\n",
            "Epoch 186/256\n",
            " - 2s - loss: 74504690.7413 - acc: 0.0000e+00\n",
            "Epoch 187/256\n",
            " - 2s - loss: 73699175.3549 - acc: 0.0000e+00\n",
            "Epoch 188/256\n",
            " - 2s - loss: 73805687.8194 - acc: 0.0000e+00\n",
            "Epoch 189/256\n",
            " - 2s - loss: 73796920.1415 - acc: 0.0000e+00\n",
            "Epoch 190/256\n",
            " - 2s - loss: 72613930.6445 - acc: 0.0000e+00\n",
            "Epoch 191/256\n",
            " - 2s - loss: 73634817.9829 - acc: 0.0000e+00\n",
            "Epoch 192/256\n",
            " - 2s - loss: 73504172.0100 - acc: 0.0000e+00\n",
            "Epoch 193/256\n",
            " - 2s - loss: 73334600.0604 - acc: 0.0000e+00\n",
            "Epoch 194/256\n",
            " - 2s - loss: 73296727.7930 - acc: 0.0000e+00\n",
            "Epoch 195/256\n",
            " - 2s - loss: 72336224.7810 - acc: 0.0000e+00\n",
            "Epoch 196/256\n",
            " - 2s - loss: 74327842.9796 - acc: 0.0000e+00\n",
            "Epoch 197/256\n",
            " - 2s - loss: 73739564.7661 - acc: 0.0000e+00\n",
            "Epoch 198/256\n",
            " - 2s - loss: 73717532.4629 - acc: 0.0000e+00\n",
            "Epoch 199/256\n",
            " - 2s - loss: 73645680.0573 - acc: 0.0000e+00\n",
            "Epoch 200/256\n",
            " - 2s - loss: 73332860.1509 - acc: 0.0000e+00\n",
            "Epoch 201/256\n",
            " - 2s - loss: 73373588.5250 - acc: 0.0000e+00\n",
            "Epoch 202/256\n",
            " - 2s - loss: 73875928.1989 - acc: 0.0000e+00\n",
            "Epoch 203/256\n",
            " - 2s - loss: 73186893.5141 - acc: 0.0000e+00\n",
            "Epoch 204/256\n",
            " - 2s - loss: 73847309.9005 - acc: 0.0000e+00\n",
            "Epoch 205/256\n",
            " - 2s - loss: 73642753.4356 - acc: 0.0000e+00\n",
            "Epoch 206/256\n",
            " - 2s - loss: 73233852.2031 - acc: 0.0000e+00\n",
            "Epoch 207/256\n",
            " - 2s - loss: 73909331.3082 - acc: 0.0000e+00\n",
            "Epoch 208/256\n",
            " - 2s - loss: 73508713.6257 - acc: 0.0000e+00\n",
            "Epoch 209/256\n",
            " - 2s - loss: 74028449.3332 - acc: 0.0000e+00\n",
            "Epoch 210/256\n",
            " - 2s - loss: 72919450.2903 - acc: 0.0000e+00\n",
            "Epoch 211/256\n",
            " - 2s - loss: 74170189.0183 - acc: 0.0000e+00\n",
            "Epoch 212/256\n",
            " - 2s - loss: 72846812.2081 - acc: 0.0000e+00\n",
            "Epoch 213/256\n",
            " - 2s - loss: 73859068.3963 - acc: 0.0000e+00\n",
            "Epoch 214/256\n",
            " - 2s - loss: 73243054.3622 - acc: 0.0000e+00\n",
            "Epoch 215/256\n",
            " - 2s - loss: 72986720.8877 - acc: 0.0000e+00\n",
            "Epoch 216/256\n",
            " - 2s - loss: 73669654.2415 - acc: 0.0000e+00\n",
            "Epoch 217/256\n",
            " - 2s - loss: 74018745.7839 - acc: 0.0000e+00\n",
            "Epoch 218/256\n",
            " - 2s - loss: 74196678.5726 - acc: 0.0000e+00\n",
            "Epoch 219/256\n",
            " - 2s - loss: 73597164.0118 - acc: 0.0000e+00\n",
            "Epoch 220/256\n",
            " - 2s - loss: 73918352.3778 - acc: 0.0000e+00\n",
            "Epoch 221/256\n",
            " - 2s - loss: 73846744.2919 - acc: 0.0000e+00\n",
            "Epoch 222/256\n",
            " - 2s - loss: 73751378.2663 - acc: 0.0000e+00\n",
            "Epoch 223/256\n",
            " - 2s - loss: 73650896.9620 - acc: 0.0000e+00\n",
            "Epoch 224/256\n",
            " - 2s - loss: 73662012.2122 - acc: 0.0000e+00\n",
            "Epoch 225/256\n",
            " - 2s - loss: 73831406.7669 - acc: 0.0000e+00\n",
            "Epoch 226/256\n",
            " - 2s - loss: 73609441.0402 - acc: 0.0000e+00\n",
            "Epoch 227/256\n",
            " - 2s - loss: 72891310.0792 - acc: 0.0000e+00\n",
            "Epoch 228/256\n",
            " - 2s - loss: 73388362.8979 - acc: 0.0011\n",
            "Epoch 229/256\n",
            " - 2s - loss: 73704624.6494 - acc: 0.0000e+00\n",
            "Epoch 230/256\n",
            " - 2s - loss: 73826748.7813 - acc: 0.0000e+00\n",
            "Epoch 231/256\n",
            " - 2s - loss: 72704338.4607 - acc: 0.0000e+00\n",
            "Epoch 232/256\n",
            " - 2s - loss: 73405003.3498 - acc: 0.0000e+00\n",
            "Epoch 233/256\n",
            " - 2s - loss: 74113416.9201 - acc: 0.0000e+00\n",
            "Epoch 234/256\n",
            " - 2s - loss: 73552688.3640 - acc: 0.0000e+00\n",
            "Epoch 235/256\n",
            " - 2s - loss: 73763284.6660 - acc: 0.0000e+00\n",
            "Epoch 236/256\n",
            " - 2s - loss: 72912641.1993 - acc: 0.0000e+00\n",
            "Epoch 237/256\n",
            " - 2s - loss: 73129087.8119 - acc: 0.0000e+00\n",
            "Epoch 238/256\n",
            " - 2s - loss: 74136744.4910 - acc: 0.0000e+00\n",
            "Epoch 239/256\n",
            " - 2s - loss: 73939180.0688 - acc: 0.0000e+00\n",
            "Epoch 240/256\n",
            " - 2s - loss: 73287998.9596 - acc: 0.0000e+00\n",
            "Epoch 241/256\n",
            " - 2s - loss: 72929984.3849 - acc: 0.0000e+00\n",
            "Epoch 242/256\n",
            " - 2s - loss: 73021781.6598 - acc: 0.0000e+00\n",
            "Epoch 243/256\n",
            " - 2s - loss: 73976541.9464 - acc: 0.0000e+00\n",
            "Epoch 244/256\n",
            " - 2s - loss: 73300661.6399 - acc: 0.0000e+00\n",
            "Epoch 245/256\n",
            " - 2s - loss: 74010903.9638 - acc: 0.0000e+00\n",
            "Epoch 246/256\n",
            " - 2s - loss: 73873688.3427 - acc: 0.0000e+00\n",
            "Epoch 247/256\n",
            " - 2s - loss: 73271885.7639 - acc: 0.0000e+00\n",
            "Epoch 248/256\n",
            " - 2s - loss: 73227959.5753 - acc: 0.0000e+00\n",
            "Epoch 249/256\n",
            " - 2s - loss: 73882767.4779 - acc: 0.0000e+00\n",
            "Epoch 250/256\n",
            " - 2s - loss: 73533512.9300 - acc: 0.0000e+00\n",
            "Epoch 251/256\n",
            " - 2s - loss: 73929722.6262 - acc: 0.0000e+00\n",
            "Epoch 252/256\n",
            " - 2s - loss: 73091543.5706 - acc: 0.0000e+00\n",
            "Epoch 253/256\n",
            " - 2s - loss: 73392282.1848 - acc: 0.0000e+00\n",
            "Epoch 254/256\n",
            " - 2s - loss: 73367888.0996 - acc: 0.0000e+00\n",
            "Epoch 255/256\n",
            " - 2s - loss: 73735966.6999 - acc: 0.0000e+00\n",
            "Epoch 256/256\n",
            " - 2s - loss: 73390336.4916 - acc: 0.0000e+00\n"
          ],
          "name": "stdout"
        },
        {
          "output_type": "execute_result",
          "data": {
            "text/plain": [
              "<keras.callbacks.History at 0x7fd0c9d7f3c8>"
            ]
          },
          "metadata": {
            "tags": []
          },
          "execution_count": 69
        }
      ]
    },
    {
      "cell_type": "code",
      "metadata": {
        "id": "M2O6rqHPO1x5",
        "colab_type": "code",
        "outputId": "50c9c367-ab9b-436a-c5ed-a6c704200baa",
        "colab": {
          "base_uri": "https://localhost:8080/",
          "height": 265
        }
      },
      "source": [
        "predicted = model.predict(X_test)\n",
        "\n",
        "plt.plot(predicted, color=\"blue\")\n",
        "plt.plot(y_test, color=\"green\")\n",
        "plt.show()"
      ],
      "execution_count": 0,
      "outputs": [
        {
          "output_type": "display_data",
          "data": {
            "image/png": "[encoded data removed]",
            "text/plain": [
              "<Figure size 432x288 with 1 Axes>"
            ]
          },
          "metadata": {
            "tags": []
          }
        }
      ]
    }
  ]
}